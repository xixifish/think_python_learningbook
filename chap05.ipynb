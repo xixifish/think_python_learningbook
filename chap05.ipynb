{
  "cells": [
    {
      "cell_type": "markdown",
      "metadata": {
        "id": "view-in-github",
        "colab_type": "text"
      },
      "source": [
        "<a href=\"https://colab.research.google.com/github/xixifish/think_python_learningbook/blob/main/chap05.ipynb\" target=\"_parent\"><img src=\"https://colab.research.google.com/assets/colab-badge.svg\" alt=\"Open In Colab\"/></a>"
      ]
    },
    {
      "cell_type": "markdown",
      "id": "1331faa1",
      "metadata": {
        "id": "1331faa1"
      },
      "source": [
        "You can order print and ebook versions of *Think Python 3e* from\n",
        "[Bookshop.org](https://bookshop.org/a/98697/9781098155438) and\n",
        "[Amazon](https://www.amazon.com/_/dp/1098155432?smid=ATVPDKIKX0DER&_encoding=UTF8&tag=oreilly20-20&_encoding=UTF8&tag=greenteapre01-20&linkCode=ur2&linkId=e2a529f94920295d27ec8a06e757dc7c&camp=1789&creative=9325)."
      ]
    },
    {
      "cell_type": "code",
      "execution_count": null,
      "id": "8119ba50",
      "metadata": {
        "tags": [],
        "id": "8119ba50"
      },
      "outputs": [],
      "source": [
        "from os.path import basename, exists\n",
        "\n",
        "def download(url):\n",
        "    filename = basename(url)\n",
        "    if not exists(filename):\n",
        "        from urllib.request import urlretrieve\n",
        "\n",
        "        local, _ = urlretrieve(url, filename)\n",
        "        print(\"Downloaded \" + str(local))\n",
        "    return filename\n",
        "\n",
        "download('https://github.com/AllenDowney/ThinkPython/raw/v3/thinkpython.py');\n",
        "download('https://github.com/AllenDowney/ThinkPython/raw/v3/diagram.py');\n",
        "download('https://github.com/ramalho/jupyturtle/releases/download/2024-03/jupyturtle.py');\n",
        "\n",
        "import thinkpython"
      ]
    },
    {
      "cell_type": "markdown",
      "id": "75b60d6c",
      "metadata": {
        "id": "75b60d6c"
      },
      "source": [
        "# Conditionals and Recursion\n",
        "\n",
        "The main topic of this chapter is the `if` statement, which executes different code depending on the state of the program.\n",
        "And with the `if` statement we'll be able to explore one of the most powerful ideas in computing, **recursion**.\n",
        "\n",
        "But we'll start with three new features: the modulus operator, boolean expressions, and logical operators."
      ]
    },
    {
      "cell_type": "markdown",
      "id": "4ab7caf4",
      "metadata": {
        "id": "4ab7caf4"
      },
      "source": [
        "## Integer division and modulus\n",
        "\n",
        "Recall that the integer division operator, `//`, divides two numbers and rounds\n",
        "down to an integer.\n",
        "For example, suppose the run time of a movie is 105 minutes.\n",
        "You might want to know how long that is in hours.\n",
        "Conventional division returns a floating-point number:"
      ]
    },
    {
      "cell_type": "code",
      "execution_count": null,
      "id": "30bd0ba7",
      "metadata": {
        "id": "30bd0ba7",
        "outputId": "71b699dc-19bf-4bea-cd7d-a70161fb9096",
        "colab": {
          "base_uri": "https://localhost:8080/"
        }
      },
      "outputs": [
        {
          "output_type": "execute_result",
          "data": {
            "text/plain": [
              "1.75"
            ]
          },
          "metadata": {},
          "execution_count": 47
        }
      ],
      "source": [
        "minutes = 105\n",
        "minutes / 60"
      ]
    },
    {
      "cell_type": "markdown",
      "id": "3f224403",
      "metadata": {
        "id": "3f224403"
      },
      "source": [
        "But we don't normally write hours with decimal points.\n",
        "Integer division returns the integer number of hours, rounding down:"
      ]
    },
    {
      "cell_type": "code",
      "execution_count": null,
      "id": "451e3198",
      "metadata": {
        "id": "451e3198",
        "outputId": "caf69a20-47e1-4bbf-93c4-5d64133b5c0f",
        "colab": {
          "base_uri": "https://localhost:8080/"
        }
      },
      "outputs": [
        {
          "output_type": "execute_result",
          "data": {
            "text/plain": [
              "1"
            ]
          },
          "metadata": {},
          "execution_count": 48
        }
      ],
      "source": [
        "minutes = 105\n",
        "hours = minutes // 60\n",
        "hours"
      ]
    },
    {
      "cell_type": "markdown",
      "id": "bfa9b0cf",
      "metadata": {
        "id": "bfa9b0cf"
      },
      "source": [
        "To get the remainder, you could subtract off one hour in minutes:"
      ]
    },
    {
      "cell_type": "code",
      "execution_count": null,
      "id": "64b92876",
      "metadata": {
        "id": "64b92876",
        "outputId": "bdc7afc7-0e2f-44c2-e246-8e642823c7e1",
        "colab": {
          "base_uri": "https://localhost:8080/"
        }
      },
      "outputs": [
        {
          "output_type": "execute_result",
          "data": {
            "text/plain": [
              "45"
            ]
          },
          "metadata": {},
          "execution_count": 49
        }
      ],
      "source": [
        "remainder = minutes - hours * 60\n",
        "remainder"
      ]
    },
    {
      "cell_type": "markdown",
      "id": "05caf27f",
      "metadata": {
        "id": "05caf27f"
      },
      "source": [
        "Or you could use the **modulus operator**, `%`, which divides two numbers and returns the remainder."
      ]
    },
    {
      "cell_type": "code",
      "execution_count": null,
      "id": "0a593844",
      "metadata": {
        "id": "0a593844",
        "outputId": "cbd6a701-5bd3-4802-83a4-1d87bfe9df12",
        "colab": {
          "base_uri": "https://localhost:8080/"
        }
      },
      "outputs": [
        {
          "output_type": "execute_result",
          "data": {
            "text/plain": [
              "45"
            ]
          },
          "metadata": {},
          "execution_count": 50
        }
      ],
      "source": [
        "remainder = minutes % 60\n",
        "remainder"
      ]
    },
    {
      "cell_type": "markdown",
      "id": "18c1e0d0",
      "metadata": {
        "id": "18c1e0d0"
      },
      "source": [
        "The modulus operator is more useful than it might seem.\n",
        "For example, it can check whether one number is divisible by another -- if `x % y` is zero, then `x` is divisible by `y`.\n",
        "\n",
        "Also, it can extract the right-most digit or digits from a number.\n",
        "For example, `x % 10` yields the right-most digit of `x` (in base 10).\n",
        "Similarly, `x % 100` yields the last two digits."
      ]
    },
    {
      "cell_type": "code",
      "execution_count": null,
      "id": "5bd341f7",
      "metadata": {
        "id": "5bd341f7",
        "outputId": "21550bcd-c3d8-4b85-ba7e-885bbdd48914",
        "colab": {
          "base_uri": "https://localhost:8080/"
        }
      },
      "outputs": [
        {
          "output_type": "execute_result",
          "data": {
            "text/plain": [
              "3"
            ]
          },
          "metadata": {},
          "execution_count": 51
        }
      ],
      "source": [
        "x = 123\n",
        "x % 10"
      ]
    },
    {
      "cell_type": "code",
      "execution_count": null,
      "id": "367fce0c",
      "metadata": {
        "id": "367fce0c",
        "outputId": "28b0bf46-f634-4754-af41-8c48fe4e2e8f",
        "colab": {
          "base_uri": "https://localhost:8080/"
        }
      },
      "outputs": [
        {
          "output_type": "execute_result",
          "data": {
            "text/plain": [
              "23"
            ]
          },
          "metadata": {},
          "execution_count": 52
        }
      ],
      "source": [
        "x % 100"
      ]
    },
    {
      "cell_type": "markdown",
      "id": "f2344fc0",
      "metadata": {
        "id": "f2344fc0"
      },
      "source": [
        "Finally, the modulus operator can do \"clock arithmetic\".\n",
        "For example, if an event starts at 11 AM and lasts three hours, we can use the modulus operator to figure out what time it ends."
      ]
    },
    {
      "cell_type": "code",
      "execution_count": null,
      "id": "db33a44d",
      "metadata": {
        "id": "db33a44d",
        "outputId": "e00a2893-2332-4c0c-d074-d2996c2aeeb7",
        "colab": {
          "base_uri": "https://localhost:8080/"
        }
      },
      "outputs": [
        {
          "output_type": "execute_result",
          "data": {
            "text/plain": [
              "2"
            ]
          },
          "metadata": {},
          "execution_count": 53
        }
      ],
      "source": [
        "start = 11\n",
        "duration = 3\n",
        "end = (start + duration) % 12\n",
        "end"
      ]
    },
    {
      "cell_type": "markdown",
      "id": "351c30df",
      "metadata": {
        "id": "351c30df"
      },
      "source": [
        "The event would end at 2 PM."
      ]
    },
    {
      "cell_type": "markdown",
      "id": "5ed1b58b",
      "metadata": {
        "id": "5ed1b58b"
      },
      "source": [
        "## Boolean Expressions\n",
        "\n",
        "A **boolean expression** is an expression that is either true or false.\n",
        "For example, the following expressions use the equals operator, `==`, which compares two values and produces `True` if they are equal and `False` otherwise:"
      ]
    },
    {
      "cell_type": "code",
      "execution_count": null,
      "id": "85589d38",
      "metadata": {
        "id": "85589d38",
        "outputId": "a298879f-83bf-45ff-83ef-37e21675b965",
        "colab": {
          "base_uri": "https://localhost:8080/"
        }
      },
      "outputs": [
        {
          "output_type": "execute_result",
          "data": {
            "text/plain": [
              "True"
            ]
          },
          "metadata": {},
          "execution_count": 54
        }
      ],
      "source": [
        "5 == 5"
      ]
    },
    {
      "cell_type": "code",
      "execution_count": null,
      "id": "3c9c8f61",
      "metadata": {
        "id": "3c9c8f61",
        "outputId": "0e7d0c0b-1bc5-4875-b9e4-b37245c5b957",
        "colab": {
          "base_uri": "https://localhost:8080/"
        }
      },
      "outputs": [
        {
          "output_type": "execute_result",
          "data": {
            "text/plain": [
              "False"
            ]
          },
          "metadata": {},
          "execution_count": 55
        }
      ],
      "source": [
        "5 == 7"
      ]
    },
    {
      "cell_type": "markdown",
      "id": "41fbc642",
      "metadata": {
        "id": "41fbc642"
      },
      "source": [
        "A common error is to use a single equal sign (`=`) instead of a double equal sign (`==`).\n",
        "Remember that `=` assigns a value to a variable and `==` compares two values."
      ]
    },
    {
      "cell_type": "code",
      "execution_count": null,
      "id": "c0e51bcc",
      "metadata": {
        "id": "c0e51bcc"
      },
      "outputs": [],
      "source": [
        "x = 5\n",
        "y = 7"
      ]
    },
    {
      "cell_type": "code",
      "execution_count": null,
      "id": "a6be44db",
      "metadata": {
        "id": "a6be44db",
        "outputId": "ef84deed-38e0-4952-e26f-56f509882766",
        "colab": {
          "base_uri": "https://localhost:8080/"
        }
      },
      "outputs": [
        {
          "output_type": "execute_result",
          "data": {
            "text/plain": [
              "False"
            ]
          },
          "metadata": {},
          "execution_count": 57
        }
      ],
      "source": [
        "x == y"
      ]
    },
    {
      "cell_type": "markdown",
      "id": "d3ec6b48",
      "metadata": {
        "id": "d3ec6b48"
      },
      "source": [
        "`True` and `False` are special values that belong to the type `bool`;\n",
        "they are not strings:"
      ]
    },
    {
      "cell_type": "code",
      "execution_count": null,
      "id": "90fb1c9c",
      "metadata": {
        "id": "90fb1c9c",
        "outputId": "3554ed1e-a774-4236-c6ae-f71c75bf82f0",
        "colab": {
          "base_uri": "https://localhost:8080/"
        }
      },
      "outputs": [
        {
          "output_type": "execute_result",
          "data": {
            "text/plain": [
              "bool"
            ]
          },
          "metadata": {},
          "execution_count": 58
        }
      ],
      "source": [
        "type(True)"
      ]
    },
    {
      "cell_type": "code",
      "execution_count": null,
      "id": "c1cae572",
      "metadata": {
        "id": "c1cae572",
        "outputId": "e483f41d-e17e-4716-dadf-b2a7ba24a41f",
        "colab": {
          "base_uri": "https://localhost:8080/"
        }
      },
      "outputs": [
        {
          "output_type": "execute_result",
          "data": {
            "text/plain": [
              "bool"
            ]
          },
          "metadata": {},
          "execution_count": 59
        }
      ],
      "source": [
        "type(False)"
      ]
    },
    {
      "cell_type": "markdown",
      "id": "451b2e8d",
      "metadata": {
        "id": "451b2e8d"
      },
      "source": [
        "The `==` operator is one of the **relational operators**; the others are:"
      ]
    },
    {
      "cell_type": "code",
      "execution_count": null,
      "id": "c901fe2b",
      "metadata": {
        "id": "c901fe2b",
        "outputId": "9474c640-dae7-43ed-9bbd-47178f4456c2",
        "colab": {
          "base_uri": "https://localhost:8080/"
        }
      },
      "outputs": [
        {
          "output_type": "execute_result",
          "data": {
            "text/plain": [
              "True"
            ]
          },
          "metadata": {},
          "execution_count": 60
        }
      ],
      "source": [
        "x != y               # x is not equal to y"
      ]
    },
    {
      "cell_type": "code",
      "execution_count": null,
      "id": "1457949f",
      "metadata": {
        "id": "1457949f",
        "outputId": "c2375e1e-58e3-46c7-95cb-6d622a279f67",
        "colab": {
          "base_uri": "https://localhost:8080/"
        }
      },
      "outputs": [
        {
          "output_type": "execute_result",
          "data": {
            "text/plain": [
              "False"
            ]
          },
          "metadata": {},
          "execution_count": 61
        }
      ],
      "source": [
        "x > y                # x is greater than y"
      ]
    },
    {
      "cell_type": "code",
      "execution_count": null,
      "id": "56bb7eed",
      "metadata": {
        "id": "56bb7eed",
        "outputId": "5a8c29cf-45b0-4cf6-cd28-d0020d30a33c",
        "colab": {
          "base_uri": "https://localhost:8080/"
        }
      },
      "outputs": [
        {
          "output_type": "execute_result",
          "data": {
            "text/plain": [
              "True"
            ]
          },
          "metadata": {},
          "execution_count": 62
        }
      ],
      "source": [
        "x < y               # x is less than to y"
      ]
    },
    {
      "cell_type": "code",
      "execution_count": null,
      "id": "1cdcc7ab",
      "metadata": {
        "id": "1cdcc7ab",
        "outputId": "b25e0888-6cf2-4046-9b62-ce80f33953a0",
        "colab": {
          "base_uri": "https://localhost:8080/"
        }
      },
      "outputs": [
        {
          "output_type": "execute_result",
          "data": {
            "text/plain": [
              "False"
            ]
          },
          "metadata": {},
          "execution_count": 63
        }
      ],
      "source": [
        "x >= y               # x is greater than or equal to y"
      ]
    },
    {
      "cell_type": "code",
      "execution_count": null,
      "id": "df1a1287",
      "metadata": {
        "id": "df1a1287",
        "outputId": "65c6024c-55a3-413a-e20e-0b09b13f6619",
        "colab": {
          "base_uri": "https://localhost:8080/"
        }
      },
      "outputs": [
        {
          "output_type": "execute_result",
          "data": {
            "text/plain": [
              "True"
            ]
          },
          "metadata": {},
          "execution_count": 64
        }
      ],
      "source": [
        "x <= y               # x is less than or equal to y"
      ]
    },
    {
      "cell_type": "markdown",
      "id": "db5a9477",
      "metadata": {
        "id": "db5a9477"
      },
      "source": [
        "## Logical operators\n",
        "\n",
        "To combine boolean values into expressions, we can use **logical operators**.\n",
        "The most common are `and`, ` or`, and `not`.\n",
        "The meaning of these operators is similar to their meaning in English.\n",
        "For example, the value of the following expression is `True` only if `x` is greater than `0` *and* less than `10`."
      ]
    },
    {
      "cell_type": "code",
      "execution_count": null,
      "id": "848c5f2c",
      "metadata": {
        "id": "848c5f2c",
        "outputId": "fe36b15c-f4ae-4c91-f108-85c53834f105",
        "colab": {
          "base_uri": "https://localhost:8080/"
        }
      },
      "outputs": [
        {
          "output_type": "execute_result",
          "data": {
            "text/plain": [
              "True"
            ]
          },
          "metadata": {},
          "execution_count": 65
        }
      ],
      "source": [
        "x > 0 and x < 10"
      ]
    },
    {
      "cell_type": "markdown",
      "id": "e8c14026",
      "metadata": {
        "id": "e8c14026"
      },
      "source": [
        "The following expression is `True` if *either or both* of the conditions is true, that is, if the number is divisible by 2 *or* 3:"
      ]
    },
    {
      "cell_type": "code",
      "execution_count": null,
      "id": "eb66ee6a",
      "metadata": {
        "id": "eb66ee6a",
        "outputId": "aa09b14e-d3e3-4685-e468-3c33005be64d",
        "colab": {
          "base_uri": "https://localhost:8080/"
        }
      },
      "outputs": [
        {
          "output_type": "execute_result",
          "data": {
            "text/plain": [
              "False"
            ]
          },
          "metadata": {},
          "execution_count": 66
        }
      ],
      "source": [
        "x % 2 == 0 or x % 3 == 0"
      ]
    },
    {
      "cell_type": "markdown",
      "id": "3bd0ef52",
      "metadata": {
        "id": "3bd0ef52"
      },
      "source": [
        "Finally, the `not` operator negates a boolean expression, so the following expression is `True` if `x > y` is `False`."
      ]
    },
    {
      "cell_type": "code",
      "execution_count": null,
      "id": "6de8b97c",
      "metadata": {
        "id": "6de8b97c",
        "outputId": "43826384-8dd9-4efa-b4c2-cebd713f052c",
        "colab": {
          "base_uri": "https://localhost:8080/"
        }
      },
      "outputs": [
        {
          "output_type": "execute_result",
          "data": {
            "text/plain": [
              "True"
            ]
          },
          "metadata": {},
          "execution_count": 67
        }
      ],
      "source": [
        "not x > y"
      ]
    },
    {
      "cell_type": "markdown",
      "id": "fc6098c2",
      "metadata": {
        "id": "fc6098c2"
      },
      "source": [
        "Strictly speaking, the operands of a logical operator should be boolean expressions, but Python is not very strict.\n",
        "Any nonzero number is interpreted as `True`:"
      ]
    },
    {
      "cell_type": "code",
      "execution_count": null,
      "id": "add63275",
      "metadata": {
        "id": "add63275",
        "outputId": "19c76d27-58de-4b71-def5-967eaf38b52d",
        "colab": {
          "base_uri": "https://localhost:8080/"
        }
      },
      "outputs": [
        {
          "output_type": "execute_result",
          "data": {
            "text/plain": [
              "True"
            ]
          },
          "metadata": {},
          "execution_count": 68
        }
      ],
      "source": [
        "42 and True"
      ]
    },
    {
      "cell_type": "markdown",
      "id": "102ceab9",
      "metadata": {
        "id": "102ceab9"
      },
      "source": [
        "This flexibility can be useful, but there are some subtleties to it that can be confusing.\n",
        "You might want to avoid it."
      ]
    },
    {
      "cell_type": "markdown",
      "id": "6b0f2dc1",
      "metadata": {
        "id": "6b0f2dc1"
      },
      "source": [
        "## if statements\n",
        "\n",
        "In order to write useful programs, we almost always need the ability to\n",
        "check conditions and change the behavior of the program accordingly.\n",
        "**Conditional statements** give us this ability. The simplest form is\n",
        "the `if` statement:"
      ]
    },
    {
      "cell_type": "code",
      "execution_count": null,
      "id": "80937bef",
      "metadata": {
        "id": "80937bef",
        "outputId": "18b5744b-ed3f-43f7-b497-b3c706cfcd39",
        "colab": {
          "base_uri": "https://localhost:8080/"
        }
      },
      "outputs": [
        {
          "output_type": "stream",
          "name": "stdout",
          "text": [
            "x is positive\n"
          ]
        }
      ],
      "source": [
        "if x > 0:\n",
        "    print('x is positive')"
      ]
    },
    {
      "cell_type": "markdown",
      "id": "973f705e",
      "metadata": {
        "id": "973f705e"
      },
      "source": [
        "`if` is a Python keyword.\n",
        "`if` statements have the same structure as function definitions: a\n",
        "header followed by an indented statement or sequence of statements called a **block**.\n",
        "\n",
        "The boolean expression after `if` is called the **condition**.\n",
        "If it is true, the statements in the indented block run. If not, they don't.\n",
        "\n",
        "There is no limit to the number of statements that can appear in the block, but there has to be at least one.\n",
        "Occasionally, it is useful to have a block that does nothing -- usually as a place keeper for code you haven't written yet.\n",
        "In that case, you can use the `pass` statement, which does nothing."
      ]
    },
    {
      "cell_type": "code",
      "execution_count": null,
      "id": "bc74a318",
      "metadata": {
        "id": "bc74a318"
      },
      "outputs": [],
      "source": [
        "if x < 0:\n",
        "    pass          # TODO: need to handle negative values!"
      ]
    },
    {
      "cell_type": "markdown",
      "id": "adf3f6c5",
      "metadata": {
        "id": "adf3f6c5"
      },
      "source": [
        "The word `TODO` in a comment is a conventional reminder that there's something you need to do later."
      ]
    },
    {
      "cell_type": "markdown",
      "id": "eb39bcd9",
      "metadata": {
        "id": "eb39bcd9"
      },
      "source": [
        "## The `else` clause\n",
        "\n",
        "An `if` statement can have a second part, called an `else` clause.\n",
        "The syntax looks like this:"
      ]
    },
    {
      "cell_type": "code",
      "execution_count": null,
      "id": "d16f49f2",
      "metadata": {
        "id": "d16f49f2",
        "outputId": "3eeb15b0-b060-49da-8f9c-0de9be6a030a",
        "colab": {
          "base_uri": "https://localhost:8080/"
        }
      },
      "outputs": [
        {
          "output_type": "stream",
          "name": "stdout",
          "text": [
            "x is odd\n"
          ]
        }
      ],
      "source": [
        "if x % 2 == 0:\n",
        "    print('x is even')\n",
        "else:\n",
        "    print('x is odd')"
      ]
    },
    {
      "cell_type": "markdown",
      "id": "e7dc8943",
      "metadata": {
        "id": "e7dc8943"
      },
      "source": [
        "If the condition is true, the first indented statement runs; otherwise, the second indented statement runs.\n",
        "\n",
        "In this example, if `x` is even, the remainder when `x` is divided by `2` is `0`, so the condition is true and the program displays `x is even`.\n",
        "If `x` is odd, the remainder is `1`, so the condition\n",
        "is false, and the program displays `x is odd`.\n",
        "\n",
        "Since the condition must be true or false, exactly one of the alternatives will run.\n",
        "The alternatives are called **branches**."
      ]
    },
    {
      "cell_type": "markdown",
      "id": "20c8adb6",
      "metadata": {
        "id": "20c8adb6"
      },
      "source": [
        "## Chained conditionals\n",
        "\n",
        "Sometimes there are more than two possibilities and we need more than two branches.\n",
        "One way to express a computation like that is a **chained conditional**, which includes an `elif` clause."
      ]
    },
    {
      "cell_type": "code",
      "execution_count": null,
      "id": "309fccb8",
      "metadata": {
        "id": "309fccb8",
        "outputId": "4c51d835-0d50-4314-81dc-9804e993c232",
        "colab": {
          "base_uri": "https://localhost:8080/"
        }
      },
      "outputs": [
        {
          "output_type": "stream",
          "name": "stdout",
          "text": [
            "x is less than y\n"
          ]
        }
      ],
      "source": [
        "if x < y:\n",
        "    print('x is less than y')\n",
        "elif x > y:\n",
        "    print('x is greater than y')\n",
        "else:\n",
        "    print('x and y are equal')"
      ]
    },
    {
      "cell_type": "markdown",
      "id": "46916379",
      "metadata": {
        "id": "46916379"
      },
      "source": [
        "`elif` is an abbreviation of \"else if\".\n",
        "There is no limit on the number of `elif` clauses.\n",
        "If there is an `else` clause, it has to be at the end, but there doesn't have to be\n",
        "one.\n",
        "\n",
        "Each condition is checked in order.\n",
        "If the first is false, the next is checked, and so on.\n",
        "If one of them is true, the corresponding branch runs and the `if` statement ends.\n",
        "Even if more than one condition is true, only the first true branch runs."
      ]
    },
    {
      "cell_type": "markdown",
      "id": "e0c0b9dd",
      "metadata": {
        "id": "e0c0b9dd"
      },
      "source": [
        "## Nested Conditionals\n",
        "\n",
        "One conditional can also be nested within another.\n",
        "We could have written the example in the previous section like this:"
      ]
    },
    {
      "cell_type": "code",
      "execution_count": null,
      "id": "d77539cf",
      "metadata": {
        "id": "d77539cf",
        "outputId": "9e7f5c77-577e-4bdf-ca93-5c154ffe6ef9",
        "colab": {
          "base_uri": "https://localhost:8080/"
        }
      },
      "outputs": [
        {
          "output_type": "stream",
          "name": "stdout",
          "text": [
            "x is less than y\n"
          ]
        }
      ],
      "source": [
        "if x == y:\n",
        "    print('x and y are equal')\n",
        "else:\n",
        "    if x < y:\n",
        "        print('x is less than y')\n",
        "    else:\n",
        "        print('x is greater than y')"
      ]
    },
    {
      "cell_type": "markdown",
      "id": "29f67a0a",
      "metadata": {
        "id": "29f67a0a"
      },
      "source": [
        "The outer `if` statement contains two branches.\n",
        "The first branch contains a simple statement. The second branch contains another `if` statement, which has two branches of its own.\n",
        "Those two branches are both simple statements, although they could have been conditional statements as well.\n",
        "\n",
        "Although the indentation of the statements makes the structure apparent, **nested conditionals** can be difficult to read.\n",
        "I suggest you avoid them when you can.\n",
        "\n",
        "Logical operators often provide a way to simplify nested conditional statements.\n",
        "Here's an example with a nested conditional."
      ]
    },
    {
      "cell_type": "code",
      "execution_count": null,
      "id": "91cac1a0",
      "metadata": {
        "id": "91cac1a0",
        "outputId": "c7ed49d2-4670-4d60-b496-dd98e9215fee",
        "colab": {
          "base_uri": "https://localhost:8080/"
        }
      },
      "outputs": [
        {
          "output_type": "stream",
          "name": "stdout",
          "text": [
            "x is a positive single-digit number.\n"
          ]
        }
      ],
      "source": [
        "if 0 < x:\n",
        "    if x < 10:\n",
        "        print('x is a positive single-digit number.')"
      ]
    },
    {
      "cell_type": "markdown",
      "id": "5292eb11",
      "metadata": {
        "id": "5292eb11"
      },
      "source": [
        "The `print` statement runs only if we make it past both conditionals, so we get the same effect with the `and` operator."
      ]
    },
    {
      "cell_type": "code",
      "execution_count": null,
      "id": "f8ba1724",
      "metadata": {
        "id": "f8ba1724",
        "outputId": "c340cb06-615d-4420-e786-e195c70744ca",
        "colab": {
          "base_uri": "https://localhost:8080/"
        }
      },
      "outputs": [
        {
          "output_type": "stream",
          "name": "stdout",
          "text": [
            "x is a positive single-digit number.\n"
          ]
        }
      ],
      "source": [
        "if 0 < x and x < 10:\n",
        "    print('x is a positive single-digit number.')"
      ]
    },
    {
      "cell_type": "markdown",
      "id": "dd8e808a",
      "metadata": {
        "id": "dd8e808a"
      },
      "source": [
        "For this kind of condition, Python provides a more concise option:"
      ]
    },
    {
      "cell_type": "code",
      "execution_count": null,
      "id": "014cd6f4",
      "metadata": {
        "id": "014cd6f4",
        "outputId": "d9e109ef-6e2a-4014-b897-80272f2437f1",
        "colab": {
          "base_uri": "https://localhost:8080/"
        }
      },
      "outputs": [
        {
          "output_type": "stream",
          "name": "stdout",
          "text": [
            "x is a positive single-digit number.\n"
          ]
        }
      ],
      "source": [
        "if 0 < x < 10:\n",
        "    print('x is a positive single-digit number.')"
      ]
    },
    {
      "cell_type": "markdown",
      "id": "db583cd9",
      "metadata": {
        "id": "db583cd9"
      },
      "source": [
        "## Recursion\n",
        "\n",
        "It is legal for a function to call itself.\n",
        "It may not be obvious why that is a good thing, but it turns out to be one of the most magical things a program can do.\n",
        "Here's an example."
      ]
    },
    {
      "cell_type": "code",
      "execution_count": null,
      "id": "17904e98",
      "metadata": {
        "id": "17904e98"
      },
      "outputs": [],
      "source": [
        "def countdown(n):\n",
        "    if n <= 0:\n",
        "        print('Blastoff!')\n",
        "    else:\n",
        "        print(n)\n",
        "        countdown(n-1)"
      ]
    },
    {
      "cell_type": "markdown",
      "id": "c88e0dc7",
      "metadata": {
        "id": "c88e0dc7"
      },
      "source": [
        "If `n` is 0 or negative, `countdown` outputs the word, \"Blastoff!\" Otherwise, it\n",
        "outputs `n` and then calls itself, passing `n-1` as an argument.\n",
        "\n",
        "Here's what happens when we call this function with the argument `3`."
      ]
    },
    {
      "cell_type": "code",
      "execution_count": null,
      "id": "6c1e32e2",
      "metadata": {
        "id": "6c1e32e2",
        "outputId": "e3015fd5-6c2b-47c7-96ce-0b8fc3d68469",
        "colab": {
          "base_uri": "https://localhost:8080/"
        }
      },
      "outputs": [
        {
          "output_type": "stream",
          "name": "stdout",
          "text": [
            "3\n",
            "2\n",
            "1\n",
            "Blastoff!\n"
          ]
        }
      ],
      "source": [
        "countdown(3)"
      ]
    },
    {
      "cell_type": "markdown",
      "id": "3f3c87ec",
      "metadata": {
        "id": "3f3c87ec"
      },
      "source": [
        "The execution of `countdown` begins with `n=3`, and since `n` is greater\n",
        "than `0`, it displays `3`, and then calls itself\\...\n",
        "\n",
        "> The execution of `countdown` begins with `n=2`, and since `n` is\n",
        "> greater than `0`, it displays `2`, and then calls itself\\...\n",
        ">\n",
        "> > The execution of `countdown` begins with `n=1`, and since `n` is\n",
        "> > greater than `0`, it displays `1`, and then calls itself\\...\n",
        "> >\n",
        "> > > The execution of `countdown` begins with `n=0`, and since `n` is\n",
        "> > > not greater than `0`, it displays \"Blastoff!\" and returns.\n",
        "> >\n",
        "> > The `countdown` that got `n=1` returns.\n",
        ">\n",
        "> The `countdown` that got `n=2` returns.\n",
        "\n",
        "The `countdown` that got `n=3` returns."
      ]
    },
    {
      "cell_type": "markdown",
      "id": "782e95bb",
      "metadata": {
        "id": "782e95bb"
      },
      "source": [
        "A function that calls itself is **recursive**.\n",
        "As another example, we can write a function that prints a string `n` times."
      ]
    },
    {
      "cell_type": "code",
      "execution_count": null,
      "id": "1bb13f8e",
      "metadata": {
        "id": "1bb13f8e"
      },
      "outputs": [],
      "source": [
        "def print_n_times(string, n):\n",
        "    if n > 0:\n",
        "        print(string)\n",
        "        print_n_times(string, n-1)"
      ]
    },
    {
      "cell_type": "markdown",
      "id": "73d07c17",
      "metadata": {
        "id": "73d07c17"
      },
      "source": [
        "If `n` is positive, `print_n_times` displays the value of `string` and then calls itself, passing along `string` and `n-1` as arguments.\n",
        "\n",
        "If `n` is `0` or negative, the condition is false and `print_n_times` does nothing.\n",
        "\n",
        "Here's how it works."
      ]
    },
    {
      "cell_type": "code",
      "execution_count": null,
      "id": "e7b68c57",
      "metadata": {
        "id": "e7b68c57",
        "outputId": "4f400904-9a50-4f14-d6cd-4a64f22217b7",
        "colab": {
          "base_uri": "https://localhost:8080/"
        }
      },
      "outputs": [
        {
          "output_type": "stream",
          "name": "stdout",
          "text": [
            "Spam \n",
            "Spam \n",
            "Spam \n",
            "Spam \n"
          ]
        }
      ],
      "source": [
        "print_n_times('Spam ', 4)"
      ]
    },
    {
      "cell_type": "markdown",
      "id": "1fb55a78",
      "metadata": {
        "id": "1fb55a78"
      },
      "source": [
        "For simple examples like this, it is probably easier to use a `for`\n",
        "loop. But we will see examples later that are hard to write with a `for`\n",
        "loop and easy to write with recursion, so it is good to start early."
      ]
    },
    {
      "cell_type": "markdown",
      "id": "c652c739",
      "metadata": {
        "id": "c652c739"
      },
      "source": [
        "## Stack diagrams for recursive functions\n",
        "\n",
        "Here's a stack diagram that shows the frames created when we called `countdown` with `n = 3`."
      ]
    },
    {
      "cell_type": "code",
      "execution_count": null,
      "id": "643148da",
      "metadata": {
        "tags": [],
        "id": "643148da"
      },
      "outputs": [],
      "source": [
        "from diagram import make_frame, Stack\n",
        "\n",
        "frames = []\n",
        "for n in [3,2,1,0]:\n",
        "    d = dict(n=n)\n",
        "    frame = make_frame(d, name='countdown', dy=-0.3, loc='left')\n",
        "    frames.append(frame)\n",
        "\n",
        "stack = Stack(frames, dy=-0.5)"
      ]
    },
    {
      "cell_type": "code",
      "execution_count": null,
      "id": "a8510119",
      "metadata": {
        "tags": [],
        "id": "a8510119",
        "outputId": "d361543a-86c5-46a6-d072-1cd97d5af4ab",
        "colab": {
          "base_uri": "https://localhost:8080/",
          "height": 241
        }
      },
      "outputs": [
        {
          "output_type": "display_data",
          "data": {
            "text/plain": [
              "<Figure size 174x204 with 1 Axes>"
            ],
            "image/png": "[encoded data removed]"
          },
          "metadata": {}
        }
      ],
      "source": [
        "from diagram import diagram, adjust\n",
        "\n",
        "\n",
        "width, height, x, y = [1.74, 2.04, 1.05, 1.77]\n",
        "ax = diagram(width, height)\n",
        "bbox = stack.draw(ax, x, y)\n",
        "# adjust(x, y, bbox)"
      ]
    },
    {
      "cell_type": "markdown",
      "id": "9282331b",
      "metadata": {
        "id": "9282331b"
      },
      "source": [
        "The four `countdown` frames have different values for the parameter `n`.\n",
        "The bottom of the stack, where `n=0`, is called the **base case**.\n",
        "It does not make a recursive call, so there are no more frames."
      ]
    },
    {
      "cell_type": "code",
      "execution_count": null,
      "id": "a2a376b3",
      "metadata": {
        "tags": [],
        "id": "a2a376b3",
        "outputId": "2d6cca59-4709-4cf1-b715-36c8867795c0",
        "colab": {
          "base_uri": "https://localhost:8080/",
          "height": 191
        }
      },
      "outputs": [
        {
          "output_type": "display_data",
          "data": {
            "text/plain": [
              "<Figure size 353x154 with 1 Axes>"
            ],
            "image/png": "[encoded data removed]"
          },
          "metadata": {}
        }
      ],
      "source": [
        "from diagram import make_frame, Stack\n",
        "from diagram import diagram, adjust\n",
        "\n",
        "frames = []\n",
        "for n in [2,1,0]:\n",
        "    d = dict(string='Hello', n=n)\n",
        "    frame = make_frame(d, name='print_n_times', dx=1.3, loc='left')\n",
        "    frames.append(frame)\n",
        "\n",
        "stack = Stack(frames, dy=-0.5)\n",
        "\n",
        "width, height, x, y = [3.53, 1.54, 1.54, 1.27]\n",
        "ax = diagram(width, height)\n",
        "bbox = stack.draw(ax, x, y)\n",
        "# adjust(x, y, bbox)"
      ]
    },
    {
      "cell_type": "markdown",
      "id": "37bbc2b8",
      "metadata": {
        "id": "37bbc2b8"
      },
      "source": [
        "## Infinite recursion\n",
        "\n",
        "If a recursion never reaches a base case, it goes on making recursive\n",
        "calls forever, and the program never terminates. This is known as\n",
        "**infinite recursion**, and it is generally not a good idea.\n",
        "Here's a minimal function with an infinite recursion."
      ]
    },
    {
      "cell_type": "code",
      "execution_count": null,
      "id": "af487feb",
      "metadata": {
        "id": "af487feb"
      },
      "outputs": [],
      "source": [
        "def recurse():\n",
        "    recurse()"
      ]
    },
    {
      "cell_type": "markdown",
      "id": "450a20ac",
      "metadata": {
        "id": "450a20ac"
      },
      "source": [
        "Every time `recurse` is called, it calls itself, which creates another frame.\n",
        "In Python, there is a limit to the number of frames that can be on the stack at the same time.\n",
        "If a program exceeds the limit, it causes a runtime error."
      ]
    },
    {
      "cell_type": "code",
      "execution_count": null,
      "id": "e5d6c732",
      "metadata": {
        "tags": [],
        "id": "e5d6c732",
        "outputId": "5c133a57-8adf-452f-c468-829cc96d5ea3",
        "colab": {
          "base_uri": "https://localhost:8080/"
        }
      },
      "outputs": [
        {
          "output_type": "stream",
          "name": "stdout",
          "text": [
            "Exception reporting mode: Context\n"
          ]
        }
      ],
      "source": [
        "%xmode Context"
      ]
    },
    {
      "cell_type": "code",
      "execution_count": null,
      "id": "22454b51",
      "metadata": {
        "tags": [],
        "id": "22454b51",
        "outputId": "4d763243-c7e2-4ceb-a6dd-bfb71970bc8b",
        "colab": {
          "base_uri": "https://localhost:8080/",
          "height": 265
        }
      },
      "outputs": [
        {
          "output_type": "error",
          "ename": "RecursionError",
          "evalue": "maximum recursion depth exceeded",
          "traceback": [
            "\u001b[0;31m---------------------------------------------------------------------------\u001b[0m",
            "\u001b[0;31mRecursionError\u001b[0m                            Traceback (most recent call last)",
            "\u001b[0;32m<ipython-input-86-b67bdaf44d76>\u001b[0m in \u001b[0;36m<cell line: 0>\u001b[0;34m()\u001b[0m\n\u001b[0;32m----> 1\u001b[0;31m \u001b[0mrecurse\u001b[0m\u001b[0;34m(\u001b[0m\u001b[0;34m)\u001b[0m\u001b[0;34m\u001b[0m\u001b[0;34m\u001b[0m\u001b[0m\n\u001b[0m",
            "\u001b[0;32m<ipython-input-84-65db32425da2>\u001b[0m in \u001b[0;36mrecurse\u001b[0;34m()\u001b[0m\n\u001b[1;32m      1\u001b[0m \u001b[0;32mdef\u001b[0m \u001b[0mrecurse\u001b[0m\u001b[0;34m(\u001b[0m\u001b[0;34m)\u001b[0m\u001b[0;34m:\u001b[0m\u001b[0;34m\u001b[0m\u001b[0;34m\u001b[0m\u001b[0m\n\u001b[0;32m----> 2\u001b[0;31m     \u001b[0mrecurse\u001b[0m\u001b[0;34m(\u001b[0m\u001b[0;34m)\u001b[0m\u001b[0;34m\u001b[0m\u001b[0;34m\u001b[0m\u001b[0m\n\u001b[0m",
            "... last 1 frames repeated, from the frame below ...\n",
            "\u001b[0;32m<ipython-input-84-65db32425da2>\u001b[0m in \u001b[0;36mrecurse\u001b[0;34m()\u001b[0m\n\u001b[1;32m      1\u001b[0m \u001b[0;32mdef\u001b[0m \u001b[0mrecurse\u001b[0m\u001b[0;34m(\u001b[0m\u001b[0;34m)\u001b[0m\u001b[0;34m:\u001b[0m\u001b[0;34m\u001b[0m\u001b[0;34m\u001b[0m\u001b[0m\n\u001b[0;32m----> 2\u001b[0;31m     \u001b[0mrecurse\u001b[0m\u001b[0;34m(\u001b[0m\u001b[0;34m)\u001b[0m\u001b[0;34m\u001b[0m\u001b[0;34m\u001b[0m\u001b[0m\n\u001b[0m",
            "\u001b[0;31mRecursionError\u001b[0m: maximum recursion depth exceeded"
          ]
        }
      ],
      "source": [
        "%%expect RecursionError\n",
        "\n",
        "recurse()"
      ]
    },
    {
      "cell_type": "markdown",
      "id": "39fc5c31",
      "metadata": {
        "id": "39fc5c31"
      },
      "source": [
        "The traceback indicates that there were almost 3000 frames on the stack when the error occurred.\n",
        "\n",
        "If you encounter an infinite recursion by accident, review your function to confirm that there is a base case that does not make a recursive call. And if there is a base case, check whether you are guaranteed to reach it."
      ]
    },
    {
      "cell_type": "markdown",
      "id": "45299414",
      "metadata": {
        "id": "45299414"
      },
      "source": [
        "## Keyboard input\n",
        "\n",
        "The programs we have written so far accept no input from the user. They\n",
        "just do the same thing every time.\n",
        "\n",
        "Python provides a built-in function called `input` that stops the\n",
        "program and waits for the user to type something. When the user presses\n",
        "*Return* or *Enter*, the program resumes and `input` returns what the user\n",
        "typed as a string."
      ]
    },
    {
      "cell_type": "code",
      "execution_count": null,
      "id": "f6a2e4d6",
      "metadata": {
        "id": "f6a2e4d6",
        "outputId": "cd587620-16bc-4026-ef8d-8ea670718d26",
        "colab": {
          "base_uri": "https://localhost:8080/"
        }
      },
      "outputs": [
        {
          "name": "stdout",
          "output_type": "stream",
          "text": [
            "test\n"
          ]
        }
      ],
      "source": [
        "text = input()"
      ]
    },
    {
      "cell_type": "markdown",
      "id": "acf9ec53",
      "metadata": {
        "id": "acf9ec53"
      },
      "source": [
        "Before getting input from the user, you might want to display a prompt\n",
        "telling the user what to type. `input` can take a prompt as an argument:"
      ]
    },
    {
      "cell_type": "code",
      "execution_count": null,
      "id": "964346f0",
      "metadata": {
        "id": "964346f0",
        "outputId": "d60411a7-6b83-4700-aa90-9fe95da97a30",
        "colab": {
          "base_uri": "https://localhost:8080/",
          "height": 69
        }
      },
      "outputs": [
        {
          "name": "stdout",
          "output_type": "stream",
          "text": [
            "What...is your name?\n",
            "\n"
          ]
        },
        {
          "output_type": "execute_result",
          "data": {
            "text/plain": [
              "''"
            ],
            "application/vnd.google.colaboratory.intrinsic+json": {
              "type": "string"
            }
          },
          "metadata": {},
          "execution_count": 88
        }
      ],
      "source": [
        "name = input('What...is your name?\\n')\n",
        "name"
      ]
    },
    {
      "cell_type": "markdown",
      "id": "1b754b39",
      "metadata": {
        "id": "1b754b39"
      },
      "source": [
        "The sequence `\\n` at the end of the prompt represents a **newline**, which is a special character that causes a line break -- that way the user's input appears below the prompt.\n",
        "\n",
        "If you expect the user to type an integer, you can use the `int` function to convert the return value to `int`."
      ]
    },
    {
      "cell_type": "code",
      "execution_count": null,
      "id": "60a484d7",
      "metadata": {
        "id": "60a484d7",
        "outputId": "37e847bf-f312-42ba-bb91-0d72fa078b5b",
        "colab": {
          "base_uri": "https://localhost:8080/",
          "height": 69
        }
      },
      "outputs": [
        {
          "name": "stdout",
          "output_type": "stream",
          "text": [
            "What...is the airspeed velocity of an unladen swallow?\n",
            "25.1\n"
          ]
        },
        {
          "output_type": "execute_result",
          "data": {
            "text/plain": [
              "'25.1'"
            ],
            "application/vnd.google.colaboratory.intrinsic+json": {
              "type": "string"
            }
          },
          "metadata": {},
          "execution_count": 97
        }
      ],
      "source": [
        "prompt = 'What...is the airspeed velocity of an unladen swallow?\\n'\n",
        "speed = input(prompt)\n",
        "speed"
      ]
    },
    {
      "cell_type": "markdown",
      "id": "0a65f2af",
      "metadata": {
        "id": "0a65f2af"
      },
      "source": [
        "But if they type something that's not an integer, you'll get a runtime error."
      ]
    },
    {
      "cell_type": "code",
      "execution_count": null,
      "id": "8d3d6049",
      "metadata": {
        "tags": [],
        "id": "8d3d6049",
        "outputId": "967a95f8-5f11-4ecd-ad32-572a824c52b8",
        "colab": {
          "base_uri": "https://localhost:8080/"
        }
      },
      "outputs": [
        {
          "output_type": "stream",
          "name": "stdout",
          "text": [
            "Exception reporting mode: Minimal\n"
          ]
        }
      ],
      "source": [
        "%xmode Minimal"
      ]
    },
    {
      "cell_type": "code",
      "execution_count": null,
      "id": "a04e3016",
      "metadata": {
        "tags": [],
        "id": "a04e3016",
        "outputId": "95b9ff27-ec0b-4db5-9f96-0c1cff262acd",
        "colab": {
          "base_uri": "https://localhost:8080/",
          "height": 54
        }
      },
      "outputs": [
        {
          "output_type": "error",
          "ename": "ValueError",
          "evalue": "invalid literal for int() with base 10: '25.1'",
          "traceback": [
            "\u001b[0;31mValueError\u001b[0m\u001b[0;31m:\u001b[0m invalid literal for int() with base 10: '25.1'\n"
          ]
        }
      ],
      "source": [
        "%%expect ValueError\n",
        "\n",
        "int(speed)"
      ]
    },
    {
      "cell_type": "markdown",
      "id": "a4ce3ed5",
      "metadata": {
        "id": "a4ce3ed5"
      },
      "source": [
        "We will see how to handle this kind of error later."
      ]
    },
    {
      "cell_type": "markdown",
      "id": "14c1d3dc",
      "metadata": {
        "id": "14c1d3dc"
      },
      "source": [
        "## Debugging\n",
        "\n",
        "When a syntax or runtime error occurs, the error message contains a lot\n",
        "of information, but it can be overwhelming. The most useful parts are\n",
        "usually:\n",
        "\n",
        "-   What kind of error it was, and\n",
        "\n",
        "-   Where it occurred.\n",
        "\n",
        "Syntax errors are usually easy to find, but there are a few gotchas.\n",
        "Errors related to spaces and tabs can be tricky because they are invisible\n",
        "and we are used to ignoring them."
      ]
    },
    {
      "cell_type": "code",
      "execution_count": null,
      "id": "b82642f6",
      "metadata": {
        "tags": [],
        "id": "b82642f6",
        "outputId": "2f3d1a25-433d-4157-c0a4-64693aa2fbfc",
        "colab": {
          "base_uri": "https://localhost:8080/",
          "height": 105
        }
      },
      "outputs": [
        {
          "output_type": "error",
          "ename": "IndentationError",
          "evalue": "unexpected indent (<ipython-input-106-33618411f379>, line 2)",
          "traceback": [
            "\u001b[0;36m  File \u001b[0;32m\"<ipython-input-106-33618411f379>\"\u001b[0;36m, line \u001b[0;32m2\u001b[0m\n\u001b[0;31m    y = 6\u001b[0m\n\u001b[0m    ^\u001b[0m\n\u001b[0;31mIndentationError\u001b[0m\u001b[0;31m:\u001b[0m unexpected indent\n"
          ]
        }
      ],
      "source": [
        "%%expect IndentationError\n",
        "x = 5\n",
        " y = 6"
      ]
    },
    {
      "cell_type": "markdown",
      "id": "d1d06263",
      "metadata": {
        "id": "d1d06263"
      },
      "source": [
        "In this example, the problem is that the second line is indented by one space.\n",
        "But the error message points to `y`, which is misleading.\n",
        "Error messages indicate where the problem was discovered, but the actual error might be earlier in the code.\n",
        "\n",
        "The same is true of runtime errors.\n",
        "For example, suppose you are trying to convert a ratio to decibels, like this:"
      ]
    },
    {
      "cell_type": "code",
      "execution_count": null,
      "id": "583ef53c",
      "metadata": {
        "tags": [],
        "id": "583ef53c",
        "outputId": "6d540b4e-07ef-4361-cd9a-4de378227496",
        "colab": {
          "base_uri": "https://localhost:8080/"
        }
      },
      "outputs": [
        {
          "output_type": "stream",
          "name": "stdout",
          "text": [
            "Exception reporting mode: Context\n"
          ]
        }
      ],
      "source": [
        "%xmode Context"
      ]
    },
    {
      "cell_type": "code",
      "execution_count": null,
      "id": "2f4b6082",
      "metadata": {
        "tags": [],
        "id": "2f4b6082",
        "outputId": "3e0f59c6-7448-46aa-bbf6-f6c629567b97",
        "colab": {
          "base_uri": "https://localhost:8080/",
          "height": 173
        }
      },
      "outputs": [
        {
          "output_type": "error",
          "ename": "ValueError",
          "evalue": "math domain error",
          "traceback": [
            "\u001b[0;31m---------------------------------------------------------------------------\u001b[0m",
            "\u001b[0;31mValueError\u001b[0m                                Traceback (most recent call last)",
            "\u001b[0;32m<ipython-input-108-cdd0a916f6e5>\u001b[0m in \u001b[0;36m<cell line: 0>\u001b[0;34m()\u001b[0m\n\u001b[1;32m      3\u001b[0m \u001b[0mdenominator\u001b[0m \u001b[0;34m=\u001b[0m \u001b[0;36m10\u001b[0m\u001b[0;34m\u001b[0m\u001b[0;34m\u001b[0m\u001b[0m\n\u001b[1;32m      4\u001b[0m \u001b[0mratio\u001b[0m \u001b[0;34m=\u001b[0m \u001b[0mnumerator\u001b[0m \u001b[0;34m//\u001b[0m \u001b[0mdenominator\u001b[0m\u001b[0;34m\u001b[0m\u001b[0;34m\u001b[0m\u001b[0m\n\u001b[0;32m----> 5\u001b[0;31m \u001b[0mdecibels\u001b[0m \u001b[0;34m=\u001b[0m \u001b[0;36m10\u001b[0m \u001b[0;34m*\u001b[0m \u001b[0mmath\u001b[0m\u001b[0;34m.\u001b[0m\u001b[0mlog10\u001b[0m\u001b[0;34m(\u001b[0m\u001b[0mratio\u001b[0m\u001b[0;34m)\u001b[0m\u001b[0;34m\u001b[0m\u001b[0;34m\u001b[0m\u001b[0m\n\u001b[0m",
            "\u001b[0;31mValueError\u001b[0m: math domain error"
          ]
        }
      ],
      "source": [
        "%%expect ValueError\n",
        "import math\n",
        "numerator = 9\n",
        "denominator = 10\n",
        "ratio = numerator // denominator\n",
        "decibels = 10 * math.log10(ratio)"
      ]
    },
    {
      "cell_type": "code",
      "source": [
        "%%expect ValueError\n",
        "import math\n",
        "numerator = 9\n",
        "denominator = 10\n",
        "ratio = numerator / denominator\n",
        "decibels = 10 * math.log10(ratio)"
      ],
      "metadata": {
        "id": "ehi4z8T1As4u"
      },
      "id": "ehi4z8T1As4u",
      "execution_count": null,
      "outputs": []
    },
    {
      "cell_type": "markdown",
      "id": "55914374",
      "metadata": {
        "id": "55914374"
      },
      "source": [
        "The error message indicates line 5, but there is nothing wrong with that line.\n",
        "The problem is in line 4, which uses integer division instead of floating-point division -- as a result, the value of `ratio` is `0`.\n",
        "When we call `math.log10`, we get a `ValueError` with the message `math domain error`, because `0` is not in the \"domain\" of valid arguments for `math.log10`, because the logarithm of `0` is undefined.\n",
        "\n",
        "In general, you should take the time to read error messages carefully, but don't assume that everything they say is correct."
      ]
    },
    {
      "cell_type": "markdown",
      "id": "8ffe690e",
      "metadata": {
        "id": "8ffe690e"
      },
      "source": [
        "## Glossary\n",
        "\n",
        "**recursion:**\n",
        "The process of calling the function that is currently executing.\n",
        "\n",
        "**modulus operator:**\n",
        "An operator, `%`, that works on integers and returns the remainder when one number is divided by another.\n",
        "\n",
        "**boolean expression:**\n",
        "An expression whose value is either `True` or `False`.\n",
        "\n",
        "**relational operator:**\n",
        "One of the operators that compares its operands: `==`, `!=`, `>`, `<`, `>=`, and `<=`.\n",
        "\n",
        "**logical operator:**\n",
        "One of the operators that combines boolean expressions, including `and`, `or`, and `not`.\n",
        "\n",
        "**conditional statement:**\n",
        "A statement that controls the flow of execution depending on some condition.\n",
        "\n",
        "**condition:**\n",
        "The boolean expression in a conditional statement that determines which branch runs.\n",
        "\n",
        "**block:**\n",
        "One or more statements indented to indicate they are part of another statement.\n",
        "\n",
        "**branch:**\n",
        "One of the alternative sequences of statements in a conditional statement.\n",
        "\n",
        "**chained conditional:**\n",
        "A conditional statement with a series of alternative branches.\n",
        "\n",
        "**nested conditional:**\n",
        "A conditional statement that appears in one of the branches of another conditional statement.\n",
        "\n",
        "**recursive:**\n",
        "A function that calls itself is recursive.\n",
        "\n",
        "**base case:**\n",
        "A conditional branch in a recursive function that does not make a recursive call.\n",
        "\n",
        "**infinite recursion:**\n",
        "A recursion that doesn't have a base case, or never reaches it.\n",
        "Eventually, an infinite recursion causes a runtime error.\n",
        "\n",
        "**newline:**\n",
        "A character that creates a line break between two parts of a string."
      ]
    },
    {
      "cell_type": "markdown",
      "id": "8d783953",
      "metadata": {
        "id": "8d783953"
      },
      "source": [
        "## Exercises"
      ]
    },
    {
      "cell_type": "code",
      "execution_count": null,
      "id": "66aae3cb",
      "metadata": {
        "tags": [],
        "id": "66aae3cb",
        "outputId": "c095b296-71b8-47ec-c332-e95e72cc9ec7",
        "colab": {
          "base_uri": "https://localhost:8080/"
        }
      },
      "outputs": [
        {
          "output_type": "stream",
          "name": "stdout",
          "text": [
            "Exception reporting mode: Verbose\n"
          ]
        }
      ],
      "source": [
        "# This cell tells Jupyter to provide detailed debugging information\n",
        "# when a runtime error occurs. Run it before working on the exercises.\n",
        "\n",
        "%xmode Verbose"
      ]
    },
    {
      "cell_type": "markdown",
      "id": "02f9f1d7",
      "metadata": {
        "id": "02f9f1d7"
      },
      "source": [
        "### Ask a virtual assistant\n",
        "\n",
        "* Ask a virtual assistant, \"What are some uses of the modulus operator?\"\n",
        "\n",
        "* Python provides operators to compute the logical operations `and`, `or`, and `not`, but it doesn't have an operator that computes the exclusive `or` operation, usually written `xor`. Ask an assistant \"What is the logical xor operation and how do I compute it in Python?\"\n",
        "\n",
        "In this chapter, we saw two ways to write an `if` statement with three branches, using a chained conditional or a nested conditional.\n",
        "You can use a virtual assistant to convert from one to the other.\n",
        "For example, ask a VA, \"Convert this statement to a chained conditional.\""
      ]
    },
    {
      "cell_type": "code",
      "execution_count": null,
      "id": "ade1ecb4",
      "metadata": {
        "tags": [],
        "id": "ade1ecb4"
      },
      "outputs": [],
      "source": [
        "x = 5\n",
        "y = 7"
      ]
    },
    {
      "cell_type": "code",
      "execution_count": null,
      "id": "dc7026c2",
      "metadata": {
        "id": "dc7026c2",
        "outputId": "bf15119d-cc7a-42a0-e216-2df329172662",
        "colab": {
          "base_uri": "https://localhost:8080/"
        }
      },
      "outputs": [
        {
          "output_type": "stream",
          "name": "stdout",
          "text": [
            "x is less than y\n"
          ]
        }
      ],
      "source": [
        "if x == y:\n",
        "    print('x and y are equal')\n",
        "else:\n",
        "    if x < y:\n",
        "        print('x is less than y')\n",
        "    else:\n",
        "        print('x is greater than y')"
      ]
    },
    {
      "cell_type": "markdown",
      "id": "9c2a8466",
      "metadata": {
        "id": "9c2a8466"
      },
      "source": [
        "Ask a VA, \"Rewrite this statement with a single conditional.\""
      ]
    },
    {
      "cell_type": "code",
      "execution_count": null,
      "id": "1fd919ea",
      "metadata": {
        "id": "1fd919ea",
        "outputId": "a4013e1c-b8f2-4ba3-9261-5a8c877607a5",
        "colab": {
          "base_uri": "https://localhost:8080/"
        }
      },
      "outputs": [
        {
          "output_type": "stream",
          "name": "stdout",
          "text": [
            "x is a positive single-digit number.\n"
          ]
        }
      ],
      "source": [
        "if 0 < x:\n",
        "    if x < 10:\n",
        "        print('x is a positive single-digit number.')"
      ]
    },
    {
      "cell_type": "code",
      "source": [
        "if 0 < x < 10:\n",
        "  print('x is a positive single-digit number.')"
      ],
      "metadata": {
        "id": "ThmeijudBBKD",
        "outputId": "d8b8c3b4-b62f-409b-c6a6-85ee46511453",
        "colab": {
          "base_uri": "https://localhost:8080/"
        }
      },
      "id": "ThmeijudBBKD",
      "execution_count": null,
      "outputs": [
        {
          "output_type": "stream",
          "name": "stdout",
          "text": [
            "x is a positive single-digit number.\n"
          ]
        }
      ]
    },
    {
      "cell_type": "markdown",
      "id": "e0fbed08",
      "metadata": {
        "id": "e0fbed08"
      },
      "source": [
        "See if a VA can simplify this unnecessary complexity."
      ]
    },
    {
      "cell_type": "code",
      "execution_count": null,
      "id": "1e71702e",
      "metadata": {
        "id": "1e71702e",
        "outputId": "88d4baf6-d294-4ead-b52f-f9ee5ebf892c",
        "colab": {
          "base_uri": "https://localhost:8080/"
        }
      },
      "outputs": [
        {
          "output_type": "stream",
          "name": "stdout",
          "text": [
            "x is a positive single-digit number.\n"
          ]
        }
      ],
      "source": [
        "if not x <= 0 and not x >= 10:\n",
        "    print('x is a positive single-digit number.')"
      ]
    },
    {
      "cell_type": "markdown",
      "id": "74ef776d",
      "metadata": {
        "id": "74ef776d"
      },
      "source": [
        "Here's an attempt at a recursive function that counts down by two."
      ]
    },
    {
      "cell_type": "code",
      "execution_count": null,
      "id": "84cbd5a4",
      "metadata": {
        "id": "84cbd5a4"
      },
      "outputs": [],
      "source": [
        "def countdown_by_two(n):\n",
        "    if n == 0:\n",
        "        print('Blastoff!')\n",
        "    else:\n",
        "        print(n)\n",
        "        countdown_by_two(n-2)"
      ]
    },
    {
      "cell_type": "markdown",
      "id": "77178e79",
      "metadata": {
        "id": "77178e79"
      },
      "source": [
        "It seems to work."
      ]
    },
    {
      "cell_type": "code",
      "execution_count": null,
      "id": "b0918789",
      "metadata": {
        "id": "b0918789",
        "outputId": "bf16fcc8-7c2d-4e2a-f31c-d25e78c8f299",
        "colab": {
          "base_uri": "https://localhost:8080/"
        }
      },
      "outputs": [
        {
          "output_type": "stream",
          "name": "stdout",
          "text": [
            "6\n",
            "4\n",
            "2\n",
            "Blastoff!\n"
          ]
        }
      ],
      "source": [
        "countdown_by_two(6)"
      ]
    },
    {
      "cell_type": "markdown",
      "id": "c9d3a8dc",
      "metadata": {
        "id": "c9d3a8dc"
      },
      "source": [
        "But it has an error. Ask a virtual assistant what's wrong and how to fix it.\n",
        "Paste the solution it provides back here and test it."
      ]
    },
    {
      "cell_type": "markdown",
      "id": "240a3888",
      "metadata": {
        "id": "240a3888"
      },
      "source": [
        "### Exercise\n",
        "\n",
        "The `time` module provides a function, also called `time`, that returns\n",
        "returns the number of seconds since the \"Unix epoch\", which is January 1, 1970, 00:00:00 UTC (Coordinated Universal Time)."
      ]
    },
    {
      "cell_type": "code",
      "execution_count": null,
      "id": "1e7a2c07",
      "metadata": {
        "id": "1e7a2c07",
        "outputId": "d5cb2aa0-9b51-46e3-89d7-75751ee58cb5",
        "colab": {
          "base_uri": "https://localhost:8080/"
        }
      },
      "outputs": [
        {
          "output_type": "execute_result",
          "data": {
            "text/plain": [
              "1742347745.3646464"
            ]
          },
          "metadata": {},
          "execution_count": 118
        }
      ],
      "source": [
        "from time import time\n",
        "\n",
        "now = time()\n",
        "now"
      ]
    },
    {
      "cell_type": "markdown",
      "id": "054c3197",
      "metadata": {
        "id": "054c3197"
      },
      "source": [
        "Use integer division and the modulus operator to compute the number of days since January 1, 1970 and the current time of day in hours, minutes, and seconds."
      ]
    },
    {
      "cell_type": "markdown",
      "id": "310196ba",
      "metadata": {
        "tags": [],
        "id": "310196ba"
      },
      "source": [
        "You can read more about the `time` module at <https://docs.python.org/3/library/time.html>."
      ]
    },
    {
      "cell_type": "code",
      "execution_count": null,
      "id": "c5fa57b2",
      "metadata": {
        "id": "c5fa57b2",
        "outputId": "3de68c89-0055-4170-e753-8e358d273fe0",
        "colab": {
          "base_uri": "https://localhost:8080/"
        }
      },
      "outputs": [
        {
          "output_type": "execute_result",
          "data": {
            "text/plain": [
              "20166.0"
            ]
          },
          "metadata": {},
          "execution_count": 130
        }
      ],
      "source": [
        "seconds_day = 60 * 60 * 24\n",
        "days = now // seconds_day\n",
        "days"
      ]
    },
    {
      "cell_type": "code",
      "execution_count": null,
      "id": "322ddd0a",
      "metadata": {
        "id": "322ddd0a",
        "outputId": "bf133ab6-568f-48dd-863f-443a2513c7f0",
        "colab": {
          "base_uri": "https://localhost:8080/"
        }
      },
      "outputs": [
        {
          "output_type": "execute_result",
          "data": {
            "text/plain": [
              "1.0"
            ]
          },
          "metadata": {},
          "execution_count": 135
        }
      ],
      "source": [
        "hours = (now % seconds_day) // (60 * 60)\n",
        "hours"
      ]
    },
    {
      "cell_type": "code",
      "execution_count": null,
      "id": "fc43df7d",
      "metadata": {
        "id": "fc43df7d",
        "outputId": "b407421f-9da8-4058-a978-b10315528134",
        "colab": {
          "base_uri": "https://localhost:8080/"
        }
      },
      "outputs": [
        {
          "output_type": "execute_result",
          "data": {
            "text/plain": [
              "29.0"
            ]
          },
          "metadata": {},
          "execution_count": 139
        }
      ],
      "source": [
        "minutes = ((now % seconds_day) % (60 * 60)) // 60\n",
        "minutes"
      ]
    },
    {
      "cell_type": "code",
      "execution_count": null,
      "id": "0184d21a",
      "metadata": {
        "id": "0184d21a",
        "outputId": "eb383638-9556-43c2-c5ea-50aa102ac40c",
        "colab": {
          "base_uri": "https://localhost:8080/"
        }
      },
      "outputs": [
        {
          "output_type": "execute_result",
          "data": {
            "text/plain": [
              "5.3646464347839355"
            ]
          },
          "metadata": {},
          "execution_count": 141
        }
      ],
      "source": [
        "seconds = ((now % seconds_day) % (60 * 60)) % 60\n",
        "seconds"
      ]
    },
    {
      "cell_type": "markdown",
      "source": [],
      "metadata": {
        "id": "aSBh2kIMIukd"
      },
      "id": "aSBh2kIMIukd"
    },
    {
      "cell_type": "markdown",
      "id": "6b1fd514",
      "metadata": {
        "id": "6b1fd514"
      },
      "source": [
        "### Exercise\n",
        "\n",
        "If you are given three sticks, you may or may not be able to arrange\n",
        "them in a triangle. For example, if one of the sticks is 12 inches long\n",
        "and the other two are one inch long, you will not be able to get the\n",
        "short sticks to meet in the middle. For any three lengths, there is a\n",
        "test to see if it is possible to form a triangle:\n",
        "\n",
        "> If any of the three lengths is greater than the sum of the other two,\n",
        "> then you cannot form a triangle. Otherwise, you can. (If the sum of\n",
        "> two lengths equals the third, they form what is called a \"degenerate\"\n",
        "> triangle.)\n",
        "\n",
        "Write a function named `is_triangle` that takes three integers as\n",
        "arguments, and that prints either \"Yes\" or \"No\", depending on\n",
        "whether you can or cannot form a triangle from sticks with the given\n",
        "lengths. Hint: Use a chained conditional.\n",
        "\n"
      ]
    },
    {
      "cell_type": "code",
      "execution_count": null,
      "id": "06381639",
      "metadata": {
        "tags": [],
        "id": "06381639"
      },
      "outputs": [],
      "source": [
        "def is_triangle(a, b, c):\n",
        "  if a + b >= c and b + c >= a and a + c >= b:\n",
        "    print('Yes')\n",
        "  else:\n",
        "    print('No')"
      ]
    },
    {
      "cell_type": "markdown",
      "id": "2842401c",
      "metadata": {
        "tags": [],
        "id": "2842401c"
      },
      "source": [
        "Test your function with the following cases."
      ]
    },
    {
      "cell_type": "code",
      "execution_count": null,
      "id": "156273af",
      "metadata": {
        "tags": [],
        "id": "156273af",
        "outputId": "673f5ddc-d033-4d75-a8c4-701f2e95c55e",
        "colab": {
          "base_uri": "https://localhost:8080/"
        }
      },
      "outputs": [
        {
          "output_type": "stream",
          "name": "stdout",
          "text": [
            "Yes\n"
          ]
        }
      ],
      "source": [
        "is_triangle(4, 5, 6)   # should be Yes"
      ]
    },
    {
      "cell_type": "code",
      "execution_count": null,
      "id": "e00793f4",
      "metadata": {
        "tags": [],
        "id": "e00793f4",
        "outputId": "33b443d8-f7c3-4015-c999-690e64e5aa7d",
        "colab": {
          "base_uri": "https://localhost:8080/"
        }
      },
      "outputs": [
        {
          "output_type": "stream",
          "name": "stdout",
          "text": [
            "Yes\n"
          ]
        }
      ],
      "source": [
        "is_triangle(1, 2, 3)   # should be Yes"
      ]
    },
    {
      "cell_type": "code",
      "execution_count": null,
      "id": "d2911c71",
      "metadata": {
        "tags": [],
        "id": "d2911c71",
        "outputId": "76379c7b-79c7-4a86-c7ef-e7b3f7c5ee33",
        "colab": {
          "base_uri": "https://localhost:8080/"
        }
      },
      "outputs": [
        {
          "output_type": "stream",
          "name": "stdout",
          "text": [
            "No\n"
          ]
        }
      ],
      "source": [
        "is_triangle(6, 2, 3)   # should be No"
      ]
    },
    {
      "cell_type": "code",
      "execution_count": null,
      "id": "2b05586e",
      "metadata": {
        "tags": [],
        "id": "2b05586e",
        "outputId": "15dbd065-a66e-437e-d4b0-b861007c3420",
        "colab": {
          "base_uri": "https://localhost:8080/"
        }
      },
      "outputs": [
        {
          "output_type": "stream",
          "name": "stdout",
          "text": [
            "No\n"
          ]
        }
      ],
      "source": [
        "is_triangle(1, 1, 12)   # should be No"
      ]
    },
    {
      "cell_type": "markdown",
      "id": "2ba42106",
      "metadata": {
        "id": "2ba42106"
      },
      "source": [
        "### Exercise\n",
        "\n",
        "What is the output of the following program? Draw a stack diagram that\n",
        "shows the state of the program when it prints the result."
      ]
    },
    {
      "cell_type": "code",
      "execution_count": null,
      "id": "dac374ad",
      "metadata": {
        "id": "dac374ad"
      },
      "outputs": [],
      "source": [
        "def recurse(n, s):\n",
        "    if n == 0:\n",
        "        print(s)\n",
        "    else:\n",
        "        recurse(n-1, n+s)\n",
        "\n",
        "recurse(3, 0)"
      ]
    },
    {
      "cell_type": "code",
      "execution_count": null,
      "id": "a438cec5",
      "metadata": {
        "id": "a438cec5"
      },
      "outputs": [],
      "source": [
        "from diagram import make_frame, Stack\n",
        "\n",
        "frames = []\n",
        "\n",
        "# Create each frame in the stack\n",
        "for n, s in [(3, 0), (2, 3), (1, 5), (0, 6)]:\n",
        "\n",
        "  # Create a dictionary with the variable values\n",
        "  frame_data = dict(n=n, s=s)\n",
        "\n",
        "  # Create the frame with consistent parameters\n",
        "  frame = make_frame(\n",
        "      frame_data,\n",
        "      name=f'recurse({n}, {s})',\n",
        "      dy=-0.3,\n",
        "      loc='left'\n",
        "  )\n",
        "\n",
        "  frames.append(frame)\n",
        "\n",
        "# Create stack with consistent spacing\n",
        "stack = Stack(frames, dy=-0.5)"
      ]
    },
    {
      "cell_type": "code",
      "execution_count": null,
      "id": "2e3f56c7",
      "metadata": {
        "tags": [],
        "id": "2e3f56c7",
        "outputId": "c4658b62-fb51-44e7-d750-5b5fa05eee5f",
        "colab": {
          "base_uri": "https://localhost:8080/",
          "height": 739
        }
      },
      "outputs": [
        {
          "output_type": "execute_result",
          "data": {
            "text/plain": [
              "Bbox([[-0.915, -0.9500000000000001], [1.57125, 1.1500000000000001]])"
            ]
          },
          "metadata": {},
          "execution_count": 168
        },
        {
          "output_type": "display_data",
          "data": {
            "text/plain": [
              "<Figure size 500x600 with 1 Axes>"
            ],
            "image/png": "[encoded data removed]"
          },
          "metadata": {}
        }
      ],
      "source": [
        "from diagram import diagram\n",
        "\n",
        "# Draw the diagram - simplifying the parameters\n",
        "ax = diagram(5, 6)  # Using simpler width and height values\n",
        "stack.draw(ax, 1, 1)  # Using simpler x, y positions\n",
        "\n",
        "# Skip the adjust call since it's causing issues\n",
        "# Just display the diagram as is"
      ]
    },
    {
      "cell_type": "markdown",
      "id": "bca9517d",
      "metadata": {
        "id": "bca9517d"
      },
      "source": [
        "### Exercise\n",
        "\n",
        "The following exercises use the `jupyturtle` module, described in Chapter 4.\n",
        "\n",
        "Read the following function and see if you can figure out what it does.\n",
        "Then run it and see if you got it right.\n",
        "Adjust the values of `length`, `angle` and `factor` and see what effect they have on the result.\n",
        "If you are not sure you understand how it works, try asking a virtual assistant."
      ]
    },
    {
      "cell_type": "code",
      "execution_count": null,
      "id": "2b0d60a1",
      "metadata": {
        "id": "2b0d60a1"
      },
      "outputs": [],
      "source": [
        "from jupyturtle import forward, left, right, back\n",
        "\n",
        "def draw(length):\n",
        "    angle = 50\n",
        "    factor = 0.6\n",
        "\n",
        "    if length > 5:\n",
        "        forward(length)\n",
        "        left(angle)\n",
        "        draw(factor * length)\n",
        "        right(2 * angle)\n",
        "        draw(factor * length)\n",
        "        left(angle)\n",
        "        back(length)"
      ]
    },
    {
      "cell_type": "code",
      "execution_count": null,
      "id": "ef0256ee",
      "metadata": {
        "id": "ef0256ee",
        "outputId": "57f69e10-dd16-4fcd-9083-30cb9d9fa7c7",
        "colab": {
          "base_uri": "https://localhost:8080/",
          "height": 171
        }
      },
      "outputs": [
        {
          "output_type": "display_data",
          "data": {
            "text/plain": [
              "<IPython.core.display.HTML object>"
            ],
            "text/html": [
              "<svg width=\"300\" height=\"150\">\n",
              "    <rect width=\"100%\" height=\"100%\" fill=\"#F3F3F7\" />\n",
              "\n",
              "<line x1=\"150\" y1=\"75\" x2=\"170.0\" y2=\"75.0\"\n",
              "    stroke=\"#663399\" stroke-width=\"2\" />\n",
              "<line x1=\"170.0\" y1=\"75.0\" x2=\"177.7\" y2=\"65.8\"\n",
              "    stroke=\"#663399\" stroke-width=\"2\" />\n",
              "<line x1=\"177.7\" y1=\"65.8\" x2=\"176.5\" y2=\"58.7\"\n",
              "    stroke=\"#663399\" stroke-width=\"2\" />\n",
              "<line x1=\"176.5\" y1=\"58.7\" x2=\"177.7\" y2=\"65.8\"\n",
              "    stroke=\"#663399\" stroke-width=\"2\" />\n",
              "<line x1=\"177.7\" y1=\"65.8\" x2=\"184.9\" y2=\"65.8\"\n",
              "    stroke=\"#663399\" stroke-width=\"2\" />\n",
              "<line x1=\"184.9\" y1=\"65.8\" x2=\"177.7\" y2=\"65.8\"\n",
              "    stroke=\"#663399\" stroke-width=\"2\" />\n",
              "<line x1=\"177.7\" y1=\"65.8\" x2=\"170.0\" y2=\"75.0\"\n",
              "    stroke=\"#663399\" stroke-width=\"2\" />\n",
              "<line x1=\"170.0\" y1=\"75.0\" x2=\"177.7\" y2=\"84.2\"\n",
              "    stroke=\"#663399\" stroke-width=\"2\" />\n",
              "<line x1=\"177.7\" y1=\"84.2\" x2=\"184.9\" y2=\"84.2\"\n",
              "    stroke=\"#663399\" stroke-width=\"2\" />\n",
              "<line x1=\"184.9\" y1=\"84.2\" x2=\"177.7\" y2=\"84.2\"\n",
              "    stroke=\"#663399\" stroke-width=\"2\" />\n",
              "<line x1=\"177.7\" y1=\"84.2\" x2=\"176.5\" y2=\"91.3\"\n",
              "    stroke=\"#663399\" stroke-width=\"2\" />\n",
              "<line x1=\"176.5\" y1=\"91.3\" x2=\"177.7\" y2=\"84.2\"\n",
              "    stroke=\"#663399\" stroke-width=\"2\" />\n",
              "<line x1=\"177.7\" y1=\"84.2\" x2=\"170.0\" y2=\"75.0\"\n",
              "    stroke=\"#663399\" stroke-width=\"2\" />\n",
              "<line x1=\"170.0\" y1=\"75.0\" x2=\"150.0\" y2=\"75.0\"\n",
              "    stroke=\"#663399\" stroke-width=\"2\" />\n",
              "\n",
              "<g transform=\"rotate(-90.0,150.0,75.0) translate(150.0, 75.0)\">\n",
              "    <circle stroke=\"#63A375\" stroke-width=\"2\" fill=\"transparent\" r=\"5.5\" cx=\"0\" cy=\"0\"/>\n",
              "    <polygon points=\"0,12 2,9 -2,9\" style=\"fill:#63A375;stroke:#63A375;stroke-width:2\"/>\n",
              "</g>\n",
              "\n",
              "</svg>"
            ]
          },
          "metadata": {}
        }
      ],
      "source": [
        "draw(20)"
      ]
    },
    {
      "cell_type": "markdown",
      "id": "e525ba59",
      "metadata": {
        "id": "e525ba59"
      },
      "source": [
        "### Exercise\n",
        "\n",
        "Ask a virtual assistant \"What is the Koch curve?\"\n",
        "\n",
        "To draw a Koch curve with length `x`, all you\n",
        "have to do is\n",
        "\n",
        "1.  Draw a Koch curve with length `x/3`.\n",
        "\n",
        "2.  Turn left 60 degrees.\n",
        "\n",
        "3.  Draw a Koch curve with length `x/3`.\n",
        "\n",
        "4.  Turn right 120 degrees.\n",
        "\n",
        "5.  Draw a Koch curve with length `x/3`.\n",
        "\n",
        "6.  Turn left 60 degrees.\n",
        "\n",
        "7.  Draw a Koch curve with length `x/3`.\n",
        "\n",
        "The exception is if `x` is less than `5` -- in that case, you can just draw a straight line with length `x`.\n",
        "\n",
        "Write a function called `koch` that takes `x` as an argument and draws a Koch curve with the given length.\n"
      ]
    },
    {
      "cell_type": "code",
      "execution_count": null,
      "id": "c1acc853",
      "metadata": {
        "id": "c1acc853"
      },
      "outputs": [],
      "source": [
        "from jupyturtle import forward, left, right, back, make_turtle\n",
        "\n",
        "def koch(x):\n",
        "  if x < 5:\n",
        "    forward(x)\n",
        "  else:\n",
        "    segment_length = x / 3\n",
        "\n",
        "    koch(segment_length)\n",
        "\n",
        "    left(60)\n",
        "\n",
        "    koch(segment_length)\n",
        "\n",
        "    right(120)\n",
        "\n",
        "    koch(segment_length)\n",
        "\n",
        "    left(60)\n",
        "\n",
        "    koch(segment_length)"
      ]
    },
    {
      "cell_type": "markdown",
      "id": "2991143a",
      "metadata": {
        "id": "2991143a"
      },
      "source": [
        "The result should look like this:"
      ]
    },
    {
      "cell_type": "code",
      "execution_count": null,
      "id": "55507716",
      "metadata": {
        "id": "55507716",
        "outputId": "9a6ead97-cfd4-4606-e072-3126aa09d5a2",
        "colab": {
          "base_uri": "https://localhost:8080/",
          "height": 171
        }
      },
      "outputs": [
        {
          "output_type": "display_data",
          "data": {
            "text/plain": [
              "<IPython.core.display.HTML object>"
            ],
            "text/html": [
              "<svg width=\"300\" height=\"150\">\n",
              "    <rect width=\"100%\" height=\"100%\" fill=\"#F3F3F7\" />\n",
              "\n",
              "<line x1=\"150\" y1=\"75\" x2=\"154.4\" y2=\"75.0\"\n",
              "    stroke=\"#663399\" stroke-width=\"2\" />\n",
              "<line x1=\"154.4\" y1=\"75.0\" x2=\"156.7\" y2=\"71.2\"\n",
              "    stroke=\"#663399\" stroke-width=\"2\" />\n",
              "<line x1=\"156.7\" y1=\"71.2\" x2=\"158.9\" y2=\"75.0\"\n",
              "    stroke=\"#663399\" stroke-width=\"2\" />\n",
              "<line x1=\"158.9\" y1=\"75.0\" x2=\"163.3\" y2=\"75.0\"\n",
              "    stroke=\"#663399\" stroke-width=\"2\" />\n",
              "<line x1=\"163.3\" y1=\"75.0\" x2=\"165.6\" y2=\"71.2\"\n",
              "    stroke=\"#663399\" stroke-width=\"2\" />\n",
              "<line x1=\"165.6\" y1=\"71.2\" x2=\"163.3\" y2=\"67.3\"\n",
              "    stroke=\"#663399\" stroke-width=\"2\" />\n",
              "<line x1=\"163.3\" y1=\"67.3\" x2=\"167.8\" y2=\"67.3\"\n",
              "    stroke=\"#663399\" stroke-width=\"2\" />\n",
              "<line x1=\"167.8\" y1=\"67.3\" x2=\"170.0\" y2=\"63.5\"\n",
              "    stroke=\"#663399\" stroke-width=\"2\" />\n",
              "<line x1=\"170.0\" y1=\"63.5\" x2=\"172.2\" y2=\"67.3\"\n",
              "    stroke=\"#663399\" stroke-width=\"2\" />\n",
              "<line x1=\"172.2\" y1=\"67.3\" x2=\"176.7\" y2=\"67.3\"\n",
              "    stroke=\"#663399\" stroke-width=\"2\" />\n",
              "<line x1=\"176.7\" y1=\"67.3\" x2=\"174.4\" y2=\"71.2\"\n",
              "    stroke=\"#663399\" stroke-width=\"2\" />\n",
              "<line x1=\"174.4\" y1=\"71.2\" x2=\"176.7\" y2=\"75.0\"\n",
              "    stroke=\"#663399\" stroke-width=\"2\" />\n",
              "<line x1=\"176.7\" y1=\"75.0\" x2=\"181.1\" y2=\"75.0\"\n",
              "    stroke=\"#663399\" stroke-width=\"2\" />\n",
              "<line x1=\"181.1\" y1=\"75.0\" x2=\"183.3\" y2=\"71.2\"\n",
              "    stroke=\"#663399\" stroke-width=\"2\" />\n",
              "<line x1=\"183.3\" y1=\"71.2\" x2=\"185.6\" y2=\"75.0\"\n",
              "    stroke=\"#663399\" stroke-width=\"2\" />\n",
              "<line x1=\"185.6\" y1=\"75.0\" x2=\"190.0\" y2=\"75.0\"\n",
              "    stroke=\"#663399\" stroke-width=\"2\" />\n",
              "<line x1=\"190.0\" y1=\"75.0\" x2=\"192.2\" y2=\"71.2\"\n",
              "    stroke=\"#663399\" stroke-width=\"2\" />\n",
              "<line x1=\"192.2\" y1=\"71.2\" x2=\"190.0\" y2=\"67.3\"\n",
              "    stroke=\"#663399\" stroke-width=\"2\" />\n",
              "<line x1=\"190.0\" y1=\"67.3\" x2=\"194.4\" y2=\"67.3\"\n",
              "    stroke=\"#663399\" stroke-width=\"2\" />\n",
              "<line x1=\"194.4\" y1=\"67.3\" x2=\"196.7\" y2=\"63.5\"\n",
              "    stroke=\"#663399\" stroke-width=\"2\" />\n",
              "<line x1=\"196.7\" y1=\"63.5\" x2=\"194.4\" y2=\"59.6\"\n",
              "    stroke=\"#663399\" stroke-width=\"2\" />\n",
              "<line x1=\"194.4\" y1=\"59.6\" x2=\"190.0\" y2=\"59.6\"\n",
              "    stroke=\"#663399\" stroke-width=\"2\" />\n",
              "<line x1=\"190.0\" y1=\"59.6\" x2=\"192.2\" y2=\"55.8\"\n",
              "    stroke=\"#663399\" stroke-width=\"2\" />\n",
              "<line x1=\"192.2\" y1=\"55.8\" x2=\"190.0\" y2=\"51.9\"\n",
              "    stroke=\"#663399\" stroke-width=\"2\" />\n",
              "<line x1=\"190.0\" y1=\"51.9\" x2=\"194.4\" y2=\"51.9\"\n",
              "    stroke=\"#663399\" stroke-width=\"2\" />\n",
              "<line x1=\"194.4\" y1=\"51.9\" x2=\"196.7\" y2=\"48.1\"\n",
              "    stroke=\"#663399\" stroke-width=\"2\" />\n",
              "<line x1=\"196.7\" y1=\"48.1\" x2=\"198.9\" y2=\"51.9\"\n",
              "    stroke=\"#663399\" stroke-width=\"2\" />\n",
              "<line x1=\"198.9\" y1=\"51.9\" x2=\"203.3\" y2=\"51.9\"\n",
              "    stroke=\"#663399\" stroke-width=\"2\" />\n",
              "<line x1=\"203.3\" y1=\"51.9\" x2=\"205.6\" y2=\"48.1\"\n",
              "    stroke=\"#663399\" stroke-width=\"2\" />\n",
              "<line x1=\"205.6\" y1=\"48.1\" x2=\"203.3\" y2=\"44.2\"\n",
              "    stroke=\"#663399\" stroke-width=\"2\" />\n",
              "<line x1=\"203.3\" y1=\"44.2\" x2=\"207.8\" y2=\"44.2\"\n",
              "    stroke=\"#663399\" stroke-width=\"2\" />\n",
              "<line x1=\"207.8\" y1=\"44.2\" x2=\"210.0\" y2=\"40.4\"\n",
              "    stroke=\"#663399\" stroke-width=\"2\" />\n",
              "<line x1=\"210.0\" y1=\"40.4\" x2=\"212.2\" y2=\"44.2\"\n",
              "    stroke=\"#663399\" stroke-width=\"2\" />\n",
              "<line x1=\"212.2\" y1=\"44.2\" x2=\"216.7\" y2=\"44.2\"\n",
              "    stroke=\"#663399\" stroke-width=\"2\" />\n",
              "<line x1=\"216.7\" y1=\"44.2\" x2=\"214.4\" y2=\"48.1\"\n",
              "    stroke=\"#663399\" stroke-width=\"2\" />\n",
              "<line x1=\"214.4\" y1=\"48.1\" x2=\"216.7\" y2=\"51.9\"\n",
              "    stroke=\"#663399\" stroke-width=\"2\" />\n",
              "<line x1=\"216.7\" y1=\"51.9\" x2=\"221.1\" y2=\"51.9\"\n",
              "    stroke=\"#663399\" stroke-width=\"2\" />\n",
              "<line x1=\"221.1\" y1=\"51.9\" x2=\"223.3\" y2=\"48.1\"\n",
              "    stroke=\"#663399\" stroke-width=\"2\" />\n",
              "<line x1=\"223.3\" y1=\"48.1\" x2=\"225.6\" y2=\"51.9\"\n",
              "    stroke=\"#663399\" stroke-width=\"2\" />\n",
              "<line x1=\"225.6\" y1=\"51.9\" x2=\"230.0\" y2=\"51.9\"\n",
              "    stroke=\"#663399\" stroke-width=\"2\" />\n",
              "<line x1=\"230.0\" y1=\"51.9\" x2=\"227.8\" y2=\"55.8\"\n",
              "    stroke=\"#663399\" stroke-width=\"2\" />\n",
              "<line x1=\"227.8\" y1=\"55.8\" x2=\"230.0\" y2=\"59.6\"\n",
              "    stroke=\"#663399\" stroke-width=\"2\" />\n",
              "<line x1=\"230.0\" y1=\"59.6\" x2=\"225.6\" y2=\"59.6\"\n",
              "    stroke=\"#663399\" stroke-width=\"2\" />\n",
              "<line x1=\"225.6\" y1=\"59.6\" x2=\"223.3\" y2=\"63.5\"\n",
              "    stroke=\"#663399\" stroke-width=\"2\" />\n",
              "<line x1=\"223.3\" y1=\"63.5\" x2=\"225.6\" y2=\"67.3\"\n",
              "    stroke=\"#663399\" stroke-width=\"2\" />\n",
              "<line x1=\"225.6\" y1=\"67.3\" x2=\"230.0\" y2=\"67.3\"\n",
              "    stroke=\"#663399\" stroke-width=\"2\" />\n",
              "<line x1=\"230.0\" y1=\"67.3\" x2=\"227.8\" y2=\"71.2\"\n",
              "    stroke=\"#663399\" stroke-width=\"2\" />\n",
              "<line x1=\"227.8\" y1=\"71.2\" x2=\"230.0\" y2=\"75.0\"\n",
              "    stroke=\"#663399\" stroke-width=\"2\" />\n",
              "<line x1=\"230.0\" y1=\"75.0\" x2=\"234.4\" y2=\"75.0\"\n",
              "    stroke=\"#663399\" stroke-width=\"2\" />\n",
              "<line x1=\"234.4\" y1=\"75.0\" x2=\"236.7\" y2=\"71.2\"\n",
              "    stroke=\"#663399\" stroke-width=\"2\" />\n",
              "<line x1=\"236.7\" y1=\"71.2\" x2=\"238.9\" y2=\"75.0\"\n",
              "    stroke=\"#663399\" stroke-width=\"2\" />\n",
              "<line x1=\"238.9\" y1=\"75.0\" x2=\"243.3\" y2=\"75.0\"\n",
              "    stroke=\"#663399\" stroke-width=\"2\" />\n",
              "<line x1=\"243.3\" y1=\"75.0\" x2=\"245.6\" y2=\"71.2\"\n",
              "    stroke=\"#663399\" stroke-width=\"2\" />\n",
              "<line x1=\"245.6\" y1=\"71.2\" x2=\"243.3\" y2=\"67.3\"\n",
              "    stroke=\"#663399\" stroke-width=\"2\" />\n",
              "<line x1=\"243.3\" y1=\"67.3\" x2=\"247.8\" y2=\"67.3\"\n",
              "    stroke=\"#663399\" stroke-width=\"2\" />\n",
              "<line x1=\"247.8\" y1=\"67.3\" x2=\"250.0\" y2=\"63.5\"\n",
              "    stroke=\"#663399\" stroke-width=\"2\" />\n",
              "<line x1=\"250.0\" y1=\"63.5\" x2=\"252.2\" y2=\"67.3\"\n",
              "    stroke=\"#663399\" stroke-width=\"2\" />\n",
              "<line x1=\"252.2\" y1=\"67.3\" x2=\"256.7\" y2=\"67.3\"\n",
              "    stroke=\"#663399\" stroke-width=\"2\" />\n",
              "<line x1=\"256.7\" y1=\"67.3\" x2=\"254.4\" y2=\"71.2\"\n",
              "    stroke=\"#663399\" stroke-width=\"2\" />\n",
              "<line x1=\"254.4\" y1=\"71.2\" x2=\"256.7\" y2=\"75.0\"\n",
              "    stroke=\"#663399\" stroke-width=\"2\" />\n",
              "<line x1=\"256.7\" y1=\"75.0\" x2=\"261.1\" y2=\"75.0\"\n",
              "    stroke=\"#663399\" stroke-width=\"2\" />\n",
              "<line x1=\"261.1\" y1=\"75.0\" x2=\"263.3\" y2=\"71.2\"\n",
              "    stroke=\"#663399\" stroke-width=\"2\" />\n",
              "<line x1=\"263.3\" y1=\"71.2\" x2=\"265.6\" y2=\"75.0\"\n",
              "    stroke=\"#663399\" stroke-width=\"2\" />\n",
              "<line x1=\"265.6\" y1=\"75.0\" x2=\"270.0\" y2=\"75.0\"\n",
              "    stroke=\"#663399\" stroke-width=\"2\" />\n",
              "\n",
              "<g transform=\"rotate(-90.0,270.0,75.0) translate(270.0, 75.0)\">\n",
              "    <circle stroke=\"#63A375\" stroke-width=\"2\" fill=\"transparent\" r=\"5.5\" cx=\"0\" cy=\"0\"/>\n",
              "    <polygon points=\"0,12 2,9 -2,9\" style=\"fill:#63A375;stroke:#63A375;stroke-width:2\"/>\n",
              "</g>\n",
              "\n",
              "</svg>"
            ]
          },
          "metadata": {}
        }
      ],
      "source": [
        "make_turtle(delay=0)\n",
        "koch(120)"
      ]
    },
    {
      "cell_type": "markdown",
      "id": "b1c58420",
      "metadata": {
        "tags": [],
        "id": "b1c58420"
      },
      "source": [
        "Once you have koch working, you can use this loop to draw three Koch curves in the shape of a snowflake."
      ]
    },
    {
      "cell_type": "code",
      "execution_count": null,
      "id": "86d3123b",
      "metadata": {
        "tags": [],
        "id": "86d3123b",
        "outputId": "e4058646-7760-4eb4-cf3d-8bc6ce2e5aaf",
        "colab": {
          "base_uri": "https://localhost:8080/",
          "height": 321
        }
      },
      "outputs": [
        {
          "output_type": "display_data",
          "data": {
            "text/plain": [
              "<IPython.core.display.HTML object>"
            ],
            "text/html": [
              "<svg width=\"300\" height=\"300\">\n",
              "    <rect width=\"100%\" height=\"100%\" fill=\"#F3F3F7\" />\n",
              "\n",
              "<line x1=\"150\" y1=\"150\" x2=\"154.4\" y2=\"150.0\"\n",
              "    stroke=\"#663399\" stroke-width=\"2\" />\n",
              "<line x1=\"154.4\" y1=\"150.0\" x2=\"156.7\" y2=\"146.2\"\n",
              "    stroke=\"#663399\" stroke-width=\"2\" />\n",
              "<line x1=\"156.7\" y1=\"146.2\" x2=\"158.9\" y2=\"150.0\"\n",
              "    stroke=\"#663399\" stroke-width=\"2\" />\n",
              "<line x1=\"158.9\" y1=\"150.0\" x2=\"163.3\" y2=\"150.0\"\n",
              "    stroke=\"#663399\" stroke-width=\"2\" />\n",
              "<line x1=\"163.3\" y1=\"150.0\" x2=\"165.6\" y2=\"146.2\"\n",
              "    stroke=\"#663399\" stroke-width=\"2\" />\n",
              "<line x1=\"165.6\" y1=\"146.2\" x2=\"163.3\" y2=\"142.3\"\n",
              "    stroke=\"#663399\" stroke-width=\"2\" />\n",
              "<line x1=\"163.3\" y1=\"142.3\" x2=\"167.8\" y2=\"142.3\"\n",
              "    stroke=\"#663399\" stroke-width=\"2\" />\n",
              "<line x1=\"167.8\" y1=\"142.3\" x2=\"170.0\" y2=\"138.5\"\n",
              "    stroke=\"#663399\" stroke-width=\"2\" />\n",
              "<line x1=\"170.0\" y1=\"138.5\" x2=\"172.2\" y2=\"142.3\"\n",
              "    stroke=\"#663399\" stroke-width=\"2\" />\n",
              "<line x1=\"172.2\" y1=\"142.3\" x2=\"176.7\" y2=\"142.3\"\n",
              "    stroke=\"#663399\" stroke-width=\"2\" />\n",
              "<line x1=\"176.7\" y1=\"142.3\" x2=\"174.4\" y2=\"146.2\"\n",
              "    stroke=\"#663399\" stroke-width=\"2\" />\n",
              "<line x1=\"174.4\" y1=\"146.2\" x2=\"176.7\" y2=\"150.0\"\n",
              "    stroke=\"#663399\" stroke-width=\"2\" />\n",
              "<line x1=\"176.7\" y1=\"150.0\" x2=\"181.1\" y2=\"150.0\"\n",
              "    stroke=\"#663399\" stroke-width=\"2\" />\n",
              "<line x1=\"181.1\" y1=\"150.0\" x2=\"183.3\" y2=\"146.2\"\n",
              "    stroke=\"#663399\" stroke-width=\"2\" />\n",
              "<line x1=\"183.3\" y1=\"146.2\" x2=\"185.6\" y2=\"150.0\"\n",
              "    stroke=\"#663399\" stroke-width=\"2\" />\n",
              "<line x1=\"185.6\" y1=\"150.0\" x2=\"190.0\" y2=\"150.0\"\n",
              "    stroke=\"#663399\" stroke-width=\"2\" />\n",
              "<line x1=\"190.0\" y1=\"150.0\" x2=\"192.2\" y2=\"146.2\"\n",
              "    stroke=\"#663399\" stroke-width=\"2\" />\n",
              "<line x1=\"192.2\" y1=\"146.2\" x2=\"190.0\" y2=\"142.3\"\n",
              "    stroke=\"#663399\" stroke-width=\"2\" />\n",
              "<line x1=\"190.0\" y1=\"142.3\" x2=\"194.4\" y2=\"142.3\"\n",
              "    stroke=\"#663399\" stroke-width=\"2\" />\n",
              "<line x1=\"194.4\" y1=\"142.3\" x2=\"196.7\" y2=\"138.5\"\n",
              "    stroke=\"#663399\" stroke-width=\"2\" />\n",
              "<line x1=\"196.7\" y1=\"138.5\" x2=\"194.4\" y2=\"134.6\"\n",
              "    stroke=\"#663399\" stroke-width=\"2\" />\n",
              "<line x1=\"194.4\" y1=\"134.6\" x2=\"190.0\" y2=\"134.6\"\n",
              "    stroke=\"#663399\" stroke-width=\"2\" />\n",
              "<line x1=\"190.0\" y1=\"134.6\" x2=\"192.2\" y2=\"130.8\"\n",
              "    stroke=\"#663399\" stroke-width=\"2\" />\n",
              "<line x1=\"192.2\" y1=\"130.8\" x2=\"190.0\" y2=\"126.9\"\n",
              "    stroke=\"#663399\" stroke-width=\"2\" />\n",
              "<line x1=\"190.0\" y1=\"126.9\" x2=\"194.4\" y2=\"126.9\"\n",
              "    stroke=\"#663399\" stroke-width=\"2\" />\n",
              "<line x1=\"194.4\" y1=\"126.9\" x2=\"196.7\" y2=\"123.1\"\n",
              "    stroke=\"#663399\" stroke-width=\"2\" />\n",
              "<line x1=\"196.7\" y1=\"123.1\" x2=\"198.9\" y2=\"126.9\"\n",
              "    stroke=\"#663399\" stroke-width=\"2\" />\n",
              "<line x1=\"198.9\" y1=\"126.9\" x2=\"203.3\" y2=\"126.9\"\n",
              "    stroke=\"#663399\" stroke-width=\"2\" />\n",
              "<line x1=\"203.3\" y1=\"126.9\" x2=\"205.6\" y2=\"123.1\"\n",
              "    stroke=\"#663399\" stroke-width=\"2\" />\n",
              "<line x1=\"205.6\" y1=\"123.1\" x2=\"203.3\" y2=\"119.2\"\n",
              "    stroke=\"#663399\" stroke-width=\"2\" />\n",
              "<line x1=\"203.3\" y1=\"119.2\" x2=\"207.8\" y2=\"119.2\"\n",
              "    stroke=\"#663399\" stroke-width=\"2\" />\n",
              "<line x1=\"207.8\" y1=\"119.2\" x2=\"210.0\" y2=\"115.4\"\n",
              "    stroke=\"#663399\" stroke-width=\"2\" />\n",
              "<line x1=\"210.0\" y1=\"115.4\" x2=\"212.2\" y2=\"119.2\"\n",
              "    stroke=\"#663399\" stroke-width=\"2\" />\n",
              "<line x1=\"212.2\" y1=\"119.2\" x2=\"216.7\" y2=\"119.2\"\n",
              "    stroke=\"#663399\" stroke-width=\"2\" />\n",
              "<line x1=\"216.7\" y1=\"119.2\" x2=\"214.4\" y2=\"123.1\"\n",
              "    stroke=\"#663399\" stroke-width=\"2\" />\n",
              "<line x1=\"214.4\" y1=\"123.1\" x2=\"216.7\" y2=\"126.9\"\n",
              "    stroke=\"#663399\" stroke-width=\"2\" />\n",
              "<line x1=\"216.7\" y1=\"126.9\" x2=\"221.1\" y2=\"126.9\"\n",
              "    stroke=\"#663399\" stroke-width=\"2\" />\n",
              "<line x1=\"221.1\" y1=\"126.9\" x2=\"223.3\" y2=\"123.1\"\n",
              "    stroke=\"#663399\" stroke-width=\"2\" />\n",
              "<line x1=\"223.3\" y1=\"123.1\" x2=\"225.6\" y2=\"126.9\"\n",
              "    stroke=\"#663399\" stroke-width=\"2\" />\n",
              "<line x1=\"225.6\" y1=\"126.9\" x2=\"230.0\" y2=\"126.9\"\n",
              "    stroke=\"#663399\" stroke-width=\"2\" />\n",
              "<line x1=\"230.0\" y1=\"126.9\" x2=\"227.8\" y2=\"130.8\"\n",
              "    stroke=\"#663399\" stroke-width=\"2\" />\n",
              "<line x1=\"227.8\" y1=\"130.8\" x2=\"230.0\" y2=\"134.6\"\n",
              "    stroke=\"#663399\" stroke-width=\"2\" />\n",
              "<line x1=\"230.0\" y1=\"134.6\" x2=\"225.6\" y2=\"134.6\"\n",
              "    stroke=\"#663399\" stroke-width=\"2\" />\n",
              "<line x1=\"225.6\" y1=\"134.6\" x2=\"223.3\" y2=\"138.5\"\n",
              "    stroke=\"#663399\" stroke-width=\"2\" />\n",
              "<line x1=\"223.3\" y1=\"138.5\" x2=\"225.6\" y2=\"142.3\"\n",
              "    stroke=\"#663399\" stroke-width=\"2\" />\n",
              "<line x1=\"225.6\" y1=\"142.3\" x2=\"230.0\" y2=\"142.3\"\n",
              "    stroke=\"#663399\" stroke-width=\"2\" />\n",
              "<line x1=\"230.0\" y1=\"142.3\" x2=\"227.8\" y2=\"146.2\"\n",
              "    stroke=\"#663399\" stroke-width=\"2\" />\n",
              "<line x1=\"227.8\" y1=\"146.2\" x2=\"230.0\" y2=\"150.0\"\n",
              "    stroke=\"#663399\" stroke-width=\"2\" />\n",
              "<line x1=\"230.0\" y1=\"150.0\" x2=\"234.4\" y2=\"150.0\"\n",
              "    stroke=\"#663399\" stroke-width=\"2\" />\n",
              "<line x1=\"234.4\" y1=\"150.0\" x2=\"236.7\" y2=\"146.2\"\n",
              "    stroke=\"#663399\" stroke-width=\"2\" />\n",
              "<line x1=\"236.7\" y1=\"146.2\" x2=\"238.9\" y2=\"150.0\"\n",
              "    stroke=\"#663399\" stroke-width=\"2\" />\n",
              "<line x1=\"238.9\" y1=\"150.0\" x2=\"243.3\" y2=\"150.0\"\n",
              "    stroke=\"#663399\" stroke-width=\"2\" />\n",
              "<line x1=\"243.3\" y1=\"150.0\" x2=\"245.6\" y2=\"146.2\"\n",
              "    stroke=\"#663399\" stroke-width=\"2\" />\n",
              "<line x1=\"245.6\" y1=\"146.2\" x2=\"243.3\" y2=\"142.3\"\n",
              "    stroke=\"#663399\" stroke-width=\"2\" />\n",
              "<line x1=\"243.3\" y1=\"142.3\" x2=\"247.8\" y2=\"142.3\"\n",
              "    stroke=\"#663399\" stroke-width=\"2\" />\n",
              "<line x1=\"247.8\" y1=\"142.3\" x2=\"250.0\" y2=\"138.5\"\n",
              "    stroke=\"#663399\" stroke-width=\"2\" />\n",
              "<line x1=\"250.0\" y1=\"138.5\" x2=\"252.2\" y2=\"142.3\"\n",
              "    stroke=\"#663399\" stroke-width=\"2\" />\n",
              "<line x1=\"252.2\" y1=\"142.3\" x2=\"256.7\" y2=\"142.3\"\n",
              "    stroke=\"#663399\" stroke-width=\"2\" />\n",
              "<line x1=\"256.7\" y1=\"142.3\" x2=\"254.4\" y2=\"146.2\"\n",
              "    stroke=\"#663399\" stroke-width=\"2\" />\n",
              "<line x1=\"254.4\" y1=\"146.2\" x2=\"256.7\" y2=\"150.0\"\n",
              "    stroke=\"#663399\" stroke-width=\"2\" />\n",
              "<line x1=\"256.7\" y1=\"150.0\" x2=\"261.1\" y2=\"150.0\"\n",
              "    stroke=\"#663399\" stroke-width=\"2\" />\n",
              "<line x1=\"261.1\" y1=\"150.0\" x2=\"263.3\" y2=\"146.2\"\n",
              "    stroke=\"#663399\" stroke-width=\"2\" />\n",
              "<line x1=\"263.3\" y1=\"146.2\" x2=\"265.6\" y2=\"150.0\"\n",
              "    stroke=\"#663399\" stroke-width=\"2\" />\n",
              "<line x1=\"265.6\" y1=\"150.0\" x2=\"270.0\" y2=\"150.0\"\n",
              "    stroke=\"#663399\" stroke-width=\"2\" />\n",
              "<line x1=\"270.0\" y1=\"150.0\" x2=\"267.8\" y2=\"153.8\"\n",
              "    stroke=\"#663399\" stroke-width=\"2\" />\n",
              "<line x1=\"267.8\" y1=\"153.8\" x2=\"270.0\" y2=\"157.7\"\n",
              "    stroke=\"#663399\" stroke-width=\"2\" />\n",
              "<line x1=\"270.0\" y1=\"157.7\" x2=\"265.6\" y2=\"157.7\"\n",
              "    stroke=\"#663399\" stroke-width=\"2\" />\n",
              "<line x1=\"265.6\" y1=\"157.7\" x2=\"263.3\" y2=\"161.5\"\n",
              "    stroke=\"#663399\" stroke-width=\"2\" />\n",
              "<line x1=\"263.3\" y1=\"161.5\" x2=\"265.6\" y2=\"165.4\"\n",
              "    stroke=\"#663399\" stroke-width=\"2\" />\n",
              "<line x1=\"265.6\" y1=\"165.4\" x2=\"270.0\" y2=\"165.4\"\n",
              "    stroke=\"#663399\" stroke-width=\"2\" />\n",
              "<line x1=\"270.0\" y1=\"165.4\" x2=\"267.8\" y2=\"169.2\"\n",
              "    stroke=\"#663399\" stroke-width=\"2\" />\n",
              "<line x1=\"267.8\" y1=\"169.2\" x2=\"270.0\" y2=\"173.1\"\n",
              "    stroke=\"#663399\" stroke-width=\"2\" />\n",
              "<line x1=\"270.0\" y1=\"173.1\" x2=\"265.6\" y2=\"173.1\"\n",
              "    stroke=\"#663399\" stroke-width=\"2\" />\n",
              "<line x1=\"265.6\" y1=\"173.1\" x2=\"263.3\" y2=\"176.9\"\n",
              "    stroke=\"#663399\" stroke-width=\"2\" />\n",
              "<line x1=\"263.3\" y1=\"176.9\" x2=\"261.1\" y2=\"173.1\"\n",
              "    stroke=\"#663399\" stroke-width=\"2\" />\n",
              "<line x1=\"261.1\" y1=\"173.1\" x2=\"256.7\" y2=\"173.1\"\n",
              "    stroke=\"#663399\" stroke-width=\"2\" />\n",
              "<line x1=\"256.7\" y1=\"173.1\" x2=\"254.4\" y2=\"176.9\"\n",
              "    stroke=\"#663399\" stroke-width=\"2\" />\n",
              "<line x1=\"254.4\" y1=\"176.9\" x2=\"256.7\" y2=\"180.8\"\n",
              "    stroke=\"#663399\" stroke-width=\"2\" />\n",
              "<line x1=\"256.7\" y1=\"180.8\" x2=\"252.2\" y2=\"180.8\"\n",
              "    stroke=\"#663399\" stroke-width=\"2\" />\n",
              "<line x1=\"252.2\" y1=\"180.8\" x2=\"250.0\" y2=\"184.6\"\n",
              "    stroke=\"#663399\" stroke-width=\"2\" />\n",
              "<line x1=\"250.0\" y1=\"184.6\" x2=\"252.2\" y2=\"188.5\"\n",
              "    stroke=\"#663399\" stroke-width=\"2\" />\n",
              "<line x1=\"252.2\" y1=\"188.5\" x2=\"256.7\" y2=\"188.5\"\n",
              "    stroke=\"#663399\" stroke-width=\"2\" />\n",
              "<line x1=\"256.7\" y1=\"188.5\" x2=\"254.4\" y2=\"192.3\"\n",
              "    stroke=\"#663399\" stroke-width=\"2\" />\n",
              "<line x1=\"254.4\" y1=\"192.3\" x2=\"256.7\" y2=\"196.2\"\n",
              "    stroke=\"#663399\" stroke-width=\"2\" />\n",
              "<line x1=\"256.7\" y1=\"196.2\" x2=\"261.1\" y2=\"196.2\"\n",
              "    stroke=\"#663399\" stroke-width=\"2\" />\n",
              "<line x1=\"261.1\" y1=\"196.2\" x2=\"263.3\" y2=\"192.3\"\n",
              "    stroke=\"#663399\" stroke-width=\"2\" />\n",
              "<line x1=\"263.3\" y1=\"192.3\" x2=\"265.6\" y2=\"196.2\"\n",
              "    stroke=\"#663399\" stroke-width=\"2\" />\n",
              "<line x1=\"265.6\" y1=\"196.2\" x2=\"270.0\" y2=\"196.2\"\n",
              "    stroke=\"#663399\" stroke-width=\"2\" />\n",
              "<line x1=\"270.0\" y1=\"196.2\" x2=\"267.8\" y2=\"200.0\"\n",
              "    stroke=\"#663399\" stroke-width=\"2\" />\n",
              "<line x1=\"267.8\" y1=\"200.0\" x2=\"270.0\" y2=\"203.9\"\n",
              "    stroke=\"#663399\" stroke-width=\"2\" />\n",
              "<line x1=\"270.0\" y1=\"203.9\" x2=\"265.6\" y2=\"203.9\"\n",
              "    stroke=\"#663399\" stroke-width=\"2\" />\n",
              "<line x1=\"265.6\" y1=\"203.9\" x2=\"263.3\" y2=\"207.7\"\n",
              "    stroke=\"#663399\" stroke-width=\"2\" />\n",
              "<line x1=\"263.3\" y1=\"207.7\" x2=\"265.6\" y2=\"211.6\"\n",
              "    stroke=\"#663399\" stroke-width=\"2\" />\n",
              "<line x1=\"265.6\" y1=\"211.6\" x2=\"270.0\" y2=\"211.6\"\n",
              "    stroke=\"#663399\" stroke-width=\"2\" />\n",
              "<line x1=\"270.0\" y1=\"211.6\" x2=\"267.8\" y2=\"215.4\"\n",
              "    stroke=\"#663399\" stroke-width=\"2\" />\n",
              "<line x1=\"267.8\" y1=\"215.4\" x2=\"270.0\" y2=\"219.3\"\n",
              "    stroke=\"#663399\" stroke-width=\"2\" />\n",
              "<line x1=\"270.0\" y1=\"219.3\" x2=\"265.6\" y2=\"219.3\"\n",
              "    stroke=\"#663399\" stroke-width=\"2\" />\n",
              "<line x1=\"265.6\" y1=\"219.3\" x2=\"263.3\" y2=\"223.1\"\n",
              "    stroke=\"#663399\" stroke-width=\"2\" />\n",
              "<line x1=\"263.3\" y1=\"223.1\" x2=\"261.1\" y2=\"219.3\"\n",
              "    stroke=\"#663399\" stroke-width=\"2\" />\n",
              "<line x1=\"261.1\" y1=\"219.3\" x2=\"256.7\" y2=\"219.3\"\n",
              "    stroke=\"#663399\" stroke-width=\"2\" />\n",
              "<line x1=\"256.7\" y1=\"219.3\" x2=\"254.4\" y2=\"223.1\"\n",
              "    stroke=\"#663399\" stroke-width=\"2\" />\n",
              "<line x1=\"254.4\" y1=\"223.1\" x2=\"256.7\" y2=\"227.0\"\n",
              "    stroke=\"#663399\" stroke-width=\"2\" />\n",
              "<line x1=\"256.7\" y1=\"227.0\" x2=\"252.2\" y2=\"227.0\"\n",
              "    stroke=\"#663399\" stroke-width=\"2\" />\n",
              "<line x1=\"252.2\" y1=\"227.0\" x2=\"250.0\" y2=\"230.8\"\n",
              "    stroke=\"#663399\" stroke-width=\"2\" />\n",
              "<line x1=\"250.0\" y1=\"230.8\" x2=\"247.8\" y2=\"227.0\"\n",
              "    stroke=\"#663399\" stroke-width=\"2\" />\n",
              "<line x1=\"247.8\" y1=\"227.0\" x2=\"243.3\" y2=\"227.0\"\n",
              "    stroke=\"#663399\" stroke-width=\"2\" />\n",
              "<line x1=\"243.3\" y1=\"227.0\" x2=\"245.6\" y2=\"223.1\"\n",
              "    stroke=\"#663399\" stroke-width=\"2\" />\n",
              "<line x1=\"245.6\" y1=\"223.1\" x2=\"243.3\" y2=\"219.3\"\n",
              "    stroke=\"#663399\" stroke-width=\"2\" />\n",
              "<line x1=\"243.3\" y1=\"219.3\" x2=\"238.9\" y2=\"219.3\"\n",
              "    stroke=\"#663399\" stroke-width=\"2\" />\n",
              "<line x1=\"238.9\" y1=\"219.3\" x2=\"236.7\" y2=\"223.1\"\n",
              "    stroke=\"#663399\" stroke-width=\"2\" />\n",
              "<line x1=\"236.7\" y1=\"223.1\" x2=\"234.4\" y2=\"219.3\"\n",
              "    stroke=\"#663399\" stroke-width=\"2\" />\n",
              "<line x1=\"234.4\" y1=\"219.3\" x2=\"230.0\" y2=\"219.3\"\n",
              "    stroke=\"#663399\" stroke-width=\"2\" />\n",
              "<line x1=\"230.0\" y1=\"219.3\" x2=\"227.8\" y2=\"223.1\"\n",
              "    stroke=\"#663399\" stroke-width=\"2\" />\n",
              "<line x1=\"227.8\" y1=\"223.1\" x2=\"230.0\" y2=\"227.0\"\n",
              "    stroke=\"#663399\" stroke-width=\"2\" />\n",
              "<line x1=\"230.0\" y1=\"227.0\" x2=\"225.6\" y2=\"227.0\"\n",
              "    stroke=\"#663399\" stroke-width=\"2\" />\n",
              "<line x1=\"225.6\" y1=\"227.0\" x2=\"223.3\" y2=\"230.8\"\n",
              "    stroke=\"#663399\" stroke-width=\"2\" />\n",
              "<line x1=\"223.3\" y1=\"230.8\" x2=\"225.6\" y2=\"234.7\"\n",
              "    stroke=\"#663399\" stroke-width=\"2\" />\n",
              "<line x1=\"225.6\" y1=\"234.7\" x2=\"230.0\" y2=\"234.7\"\n",
              "    stroke=\"#663399\" stroke-width=\"2\" />\n",
              "<line x1=\"230.0\" y1=\"234.7\" x2=\"227.8\" y2=\"238.5\"\n",
              "    stroke=\"#663399\" stroke-width=\"2\" />\n",
              "<line x1=\"227.8\" y1=\"238.5\" x2=\"230.0\" y2=\"242.4\"\n",
              "    stroke=\"#663399\" stroke-width=\"2\" />\n",
              "<line x1=\"230.0\" y1=\"242.4\" x2=\"225.6\" y2=\"242.4\"\n",
              "    stroke=\"#663399\" stroke-width=\"2\" />\n",
              "<line x1=\"225.6\" y1=\"242.4\" x2=\"223.3\" y2=\"246.2\"\n",
              "    stroke=\"#663399\" stroke-width=\"2\" />\n",
              "<line x1=\"223.3\" y1=\"246.2\" x2=\"221.1\" y2=\"242.4\"\n",
              "    stroke=\"#663399\" stroke-width=\"2\" />\n",
              "<line x1=\"221.1\" y1=\"242.4\" x2=\"216.7\" y2=\"242.4\"\n",
              "    stroke=\"#663399\" stroke-width=\"2\" />\n",
              "<line x1=\"216.7\" y1=\"242.4\" x2=\"214.4\" y2=\"246.2\"\n",
              "    stroke=\"#663399\" stroke-width=\"2\" />\n",
              "<line x1=\"214.4\" y1=\"246.2\" x2=\"216.7\" y2=\"250.1\"\n",
              "    stroke=\"#663399\" stroke-width=\"2\" />\n",
              "<line x1=\"216.7\" y1=\"250.1\" x2=\"212.2\" y2=\"250.1\"\n",
              "    stroke=\"#663399\" stroke-width=\"2\" />\n",
              "<line x1=\"212.2\" y1=\"250.1\" x2=\"210.0\" y2=\"253.9\"\n",
              "    stroke=\"#663399\" stroke-width=\"2\" />\n",
              "<line x1=\"210.0\" y1=\"253.9\" x2=\"207.8\" y2=\"250.1\"\n",
              "    stroke=\"#663399\" stroke-width=\"2\" />\n",
              "<line x1=\"207.8\" y1=\"250.1\" x2=\"203.3\" y2=\"250.1\"\n",
              "    stroke=\"#663399\" stroke-width=\"2\" />\n",
              "<line x1=\"203.3\" y1=\"250.1\" x2=\"205.6\" y2=\"246.2\"\n",
              "    stroke=\"#663399\" stroke-width=\"2\" />\n",
              "<line x1=\"205.6\" y1=\"246.2\" x2=\"203.3\" y2=\"242.4\"\n",
              "    stroke=\"#663399\" stroke-width=\"2\" />\n",
              "<line x1=\"203.3\" y1=\"242.4\" x2=\"198.9\" y2=\"242.4\"\n",
              "    stroke=\"#663399\" stroke-width=\"2\" />\n",
              "<line x1=\"198.9\" y1=\"242.4\" x2=\"196.7\" y2=\"246.2\"\n",
              "    stroke=\"#663399\" stroke-width=\"2\" />\n",
              "<line x1=\"196.7\" y1=\"246.2\" x2=\"194.4\" y2=\"242.4\"\n",
              "    stroke=\"#663399\" stroke-width=\"2\" />\n",
              "<line x1=\"194.4\" y1=\"242.4\" x2=\"190.0\" y2=\"242.4\"\n",
              "    stroke=\"#663399\" stroke-width=\"2\" />\n",
              "<line x1=\"190.0\" y1=\"242.4\" x2=\"192.2\" y2=\"238.5\"\n",
              "    stroke=\"#663399\" stroke-width=\"2\" />\n",
              "<line x1=\"192.2\" y1=\"238.5\" x2=\"190.0\" y2=\"234.7\"\n",
              "    stroke=\"#663399\" stroke-width=\"2\" />\n",
              "<line x1=\"190.0\" y1=\"234.7\" x2=\"194.4\" y2=\"234.7\"\n",
              "    stroke=\"#663399\" stroke-width=\"2\" />\n",
              "<line x1=\"194.4\" y1=\"234.7\" x2=\"196.7\" y2=\"230.8\"\n",
              "    stroke=\"#663399\" stroke-width=\"2\" />\n",
              "<line x1=\"196.7\" y1=\"230.8\" x2=\"194.4\" y2=\"227.0\"\n",
              "    stroke=\"#663399\" stroke-width=\"2\" />\n",
              "<line x1=\"194.4\" y1=\"227.0\" x2=\"190.0\" y2=\"227.0\"\n",
              "    stroke=\"#663399\" stroke-width=\"2\" />\n",
              "<line x1=\"190.0\" y1=\"227.0\" x2=\"192.2\" y2=\"223.1\"\n",
              "    stroke=\"#663399\" stroke-width=\"2\" />\n",
              "<line x1=\"192.2\" y1=\"223.1\" x2=\"190.0\" y2=\"219.3\"\n",
              "    stroke=\"#663399\" stroke-width=\"2\" />\n",
              "<line x1=\"190.0\" y1=\"219.3\" x2=\"185.6\" y2=\"219.3\"\n",
              "    stroke=\"#663399\" stroke-width=\"2\" />\n",
              "<line x1=\"185.6\" y1=\"219.3\" x2=\"183.3\" y2=\"223.1\"\n",
              "    stroke=\"#663399\" stroke-width=\"2\" />\n",
              "<line x1=\"183.3\" y1=\"223.1\" x2=\"181.1\" y2=\"219.3\"\n",
              "    stroke=\"#663399\" stroke-width=\"2\" />\n",
              "<line x1=\"181.1\" y1=\"219.3\" x2=\"176.7\" y2=\"219.3\"\n",
              "    stroke=\"#663399\" stroke-width=\"2\" />\n",
              "<line x1=\"176.7\" y1=\"219.3\" x2=\"174.4\" y2=\"223.1\"\n",
              "    stroke=\"#663399\" stroke-width=\"2\" />\n",
              "<line x1=\"174.4\" y1=\"223.1\" x2=\"176.7\" y2=\"227.0\"\n",
              "    stroke=\"#663399\" stroke-width=\"2\" />\n",
              "<line x1=\"176.7\" y1=\"227.0\" x2=\"172.2\" y2=\"227.0\"\n",
              "    stroke=\"#663399\" stroke-width=\"2\" />\n",
              "<line x1=\"172.2\" y1=\"227.0\" x2=\"170.0\" y2=\"230.8\"\n",
              "    stroke=\"#663399\" stroke-width=\"2\" />\n",
              "<line x1=\"170.0\" y1=\"230.8\" x2=\"167.8\" y2=\"227.0\"\n",
              "    stroke=\"#663399\" stroke-width=\"2\" />\n",
              "<line x1=\"167.8\" y1=\"227.0\" x2=\"163.3\" y2=\"227.0\"\n",
              "    stroke=\"#663399\" stroke-width=\"2\" />\n",
              "<line x1=\"163.3\" y1=\"227.0\" x2=\"165.6\" y2=\"223.1\"\n",
              "    stroke=\"#663399\" stroke-width=\"2\" />\n",
              "<line x1=\"165.6\" y1=\"223.1\" x2=\"163.3\" y2=\"219.3\"\n",
              "    stroke=\"#663399\" stroke-width=\"2\" />\n",
              "<line x1=\"163.3\" y1=\"219.3\" x2=\"158.9\" y2=\"219.3\"\n",
              "    stroke=\"#663399\" stroke-width=\"2\" />\n",
              "<line x1=\"158.9\" y1=\"219.3\" x2=\"156.7\" y2=\"223.1\"\n",
              "    stroke=\"#663399\" stroke-width=\"2\" />\n",
              "<line x1=\"156.7\" y1=\"223.1\" x2=\"154.4\" y2=\"219.3\"\n",
              "    stroke=\"#663399\" stroke-width=\"2\" />\n",
              "<line x1=\"154.4\" y1=\"219.3\" x2=\"150.0\" y2=\"219.3\"\n",
              "    stroke=\"#663399\" stroke-width=\"2\" />\n",
              "<line x1=\"150.0\" y1=\"219.3\" x2=\"152.2\" y2=\"215.4\"\n",
              "    stroke=\"#663399\" stroke-width=\"2\" />\n",
              "<line x1=\"152.2\" y1=\"215.4\" x2=\"150.0\" y2=\"211.6\"\n",
              "    stroke=\"#663399\" stroke-width=\"2\" />\n",
              "<line x1=\"150.0\" y1=\"211.6\" x2=\"154.4\" y2=\"211.6\"\n",
              "    stroke=\"#663399\" stroke-width=\"2\" />\n",
              "<line x1=\"154.4\" y1=\"211.6\" x2=\"156.7\" y2=\"207.7\"\n",
              "    stroke=\"#663399\" stroke-width=\"2\" />\n",
              "<line x1=\"156.7\" y1=\"207.7\" x2=\"154.4\" y2=\"203.9\"\n",
              "    stroke=\"#663399\" stroke-width=\"2\" />\n",
              "<line x1=\"154.4\" y1=\"203.9\" x2=\"150.0\" y2=\"203.9\"\n",
              "    stroke=\"#663399\" stroke-width=\"2\" />\n",
              "<line x1=\"150.0\" y1=\"203.9\" x2=\"152.2\" y2=\"200.0\"\n",
              "    stroke=\"#663399\" stroke-width=\"2\" />\n",
              "<line x1=\"152.2\" y1=\"200.0\" x2=\"150.0\" y2=\"196.2\"\n",
              "    stroke=\"#663399\" stroke-width=\"2\" />\n",
              "<line x1=\"150.0\" y1=\"196.2\" x2=\"154.4\" y2=\"196.2\"\n",
              "    stroke=\"#663399\" stroke-width=\"2\" />\n",
              "<line x1=\"154.4\" y1=\"196.2\" x2=\"156.7\" y2=\"192.3\"\n",
              "    stroke=\"#663399\" stroke-width=\"2\" />\n",
              "<line x1=\"156.7\" y1=\"192.3\" x2=\"158.9\" y2=\"196.2\"\n",
              "    stroke=\"#663399\" stroke-width=\"2\" />\n",
              "<line x1=\"158.9\" y1=\"196.2\" x2=\"163.3\" y2=\"196.2\"\n",
              "    stroke=\"#663399\" stroke-width=\"2\" />\n",
              "<line x1=\"163.3\" y1=\"196.2\" x2=\"165.6\" y2=\"192.3\"\n",
              "    stroke=\"#663399\" stroke-width=\"2\" />\n",
              "<line x1=\"165.6\" y1=\"192.3\" x2=\"163.3\" y2=\"188.5\"\n",
              "    stroke=\"#663399\" stroke-width=\"2\" />\n",
              "<line x1=\"163.3\" y1=\"188.5\" x2=\"167.8\" y2=\"188.5\"\n",
              "    stroke=\"#663399\" stroke-width=\"2\" />\n",
              "<line x1=\"167.8\" y1=\"188.5\" x2=\"170.0\" y2=\"184.6\"\n",
              "    stroke=\"#663399\" stroke-width=\"2\" />\n",
              "<line x1=\"170.0\" y1=\"184.6\" x2=\"167.8\" y2=\"180.8\"\n",
              "    stroke=\"#663399\" stroke-width=\"2\" />\n",
              "<line x1=\"167.8\" y1=\"180.8\" x2=\"163.3\" y2=\"180.8\"\n",
              "    stroke=\"#663399\" stroke-width=\"2\" />\n",
              "<line x1=\"163.3\" y1=\"180.8\" x2=\"165.6\" y2=\"176.9\"\n",
              "    stroke=\"#663399\" stroke-width=\"2\" />\n",
              "<line x1=\"165.6\" y1=\"176.9\" x2=\"163.3\" y2=\"173.1\"\n",
              "    stroke=\"#663399\" stroke-width=\"2\" />\n",
              "<line x1=\"163.3\" y1=\"173.1\" x2=\"158.9\" y2=\"173.1\"\n",
              "    stroke=\"#663399\" stroke-width=\"2\" />\n",
              "<line x1=\"158.9\" y1=\"173.1\" x2=\"156.7\" y2=\"176.9\"\n",
              "    stroke=\"#663399\" stroke-width=\"2\" />\n",
              "<line x1=\"156.7\" y1=\"176.9\" x2=\"154.4\" y2=\"173.1\"\n",
              "    stroke=\"#663399\" stroke-width=\"2\" />\n",
              "<line x1=\"154.4\" y1=\"173.1\" x2=\"150.0\" y2=\"173.1\"\n",
              "    stroke=\"#663399\" stroke-width=\"2\" />\n",
              "<line x1=\"150.0\" y1=\"173.1\" x2=\"152.2\" y2=\"169.2\"\n",
              "    stroke=\"#663399\" stroke-width=\"2\" />\n",
              "<line x1=\"152.2\" y1=\"169.2\" x2=\"150.0\" y2=\"165.4\"\n",
              "    stroke=\"#663399\" stroke-width=\"2\" />\n",
              "<line x1=\"150.0\" y1=\"165.4\" x2=\"154.4\" y2=\"165.4\"\n",
              "    stroke=\"#663399\" stroke-width=\"2\" />\n",
              "<line x1=\"154.4\" y1=\"165.4\" x2=\"156.7\" y2=\"161.5\"\n",
              "    stroke=\"#663399\" stroke-width=\"2\" />\n",
              "<line x1=\"156.7\" y1=\"161.5\" x2=\"154.4\" y2=\"157.7\"\n",
              "    stroke=\"#663399\" stroke-width=\"2\" />\n",
              "<line x1=\"154.4\" y1=\"157.7\" x2=\"150.0\" y2=\"157.7\"\n",
              "    stroke=\"#663399\" stroke-width=\"2\" />\n",
              "<line x1=\"150.0\" y1=\"157.7\" x2=\"152.2\" y2=\"153.8\"\n",
              "    stroke=\"#663399\" stroke-width=\"2\" />\n",
              "<line x1=\"152.2\" y1=\"153.8\" x2=\"150.0\" y2=\"150.0\"\n",
              "    stroke=\"#663399\" stroke-width=\"2\" />\n",
              "\n",
              "<g transform=\"rotate(-90.0,150.0,150.0) translate(150.0, 150.0)\">\n",
              "    <circle stroke=\"#63A375\" stroke-width=\"2\" fill=\"transparent\" r=\"5.5\" cx=\"0\" cy=\"0\"/>\n",
              "    <polygon points=\"0,12 2,9 -2,9\" style=\"fill:#63A375;stroke:#63A375;stroke-width:2\"/>\n",
              "</g>\n",
              "\n",
              "</svg>"
            ]
          },
          "metadata": {}
        }
      ],
      "source": [
        "make_turtle(delay=0, height=300)\n",
        "for i in range(3):\n",
        "    koch(120)\n",
        "    right(120)"
      ]
    },
    {
      "cell_type": "markdown",
      "id": "4c964239",
      "metadata": {
        "id": "4c964239"
      },
      "source": [
        "### Exercise\n",
        "\n",
        "Virtual assistants know about the functions in the `jupyturtle` module, but there are many versions of these functions, with different names, so a VA might not know which one you are talking about.\n",
        "\n",
        "To solve this problem, you can provide additional information before you ask a question.\n",
        "For example, you could start a prompt with \"Here's a program that uses the `jupyturtle` module,\" and then paste in one of the examples from this chapter.\n",
        "After that, the VA should be able to generate code that uses this module.\n",
        "\n",
        "As an example, ask a VA for a program that draws a Sierpiński triangle.\n",
        "The code you get should be a good starting place, but you might have to do some debugging.\n",
        "If the first attempt doesn't work, you can tell the VA what happened and ask for help -- or you can debug it yourself."
      ]
    },
    {
      "cell_type": "code",
      "execution_count": null,
      "id": "68439acf",
      "metadata": {
        "id": "68439acf"
      },
      "outputs": [],
      "source": [
        "def draw_sierpinski(size, depth):\n",
        "    \"\"\"\n",
        "    Draw a Sierpiński triangle with the given size and recursion depth.\n",
        "\n",
        "    Args:\n",
        "        size: Size (length of one side) of the triangle\n",
        "        depth: Recursion depth, 0 means draw a single triangle\n",
        "    \"\"\"\n",
        "    if depth == 0:\n",
        "        # Draw a single triangle\n",
        "        for _ in range(3):\n",
        "            forward(size)\n",
        "            left(120)\n",
        "    else:\n",
        "        # Draw three smaller Sierpiński triangles\n",
        "        draw_sierpinski(size/2, depth-1)\n",
        "        forward(size/2)\n",
        "        draw_sierpinski(size/2, depth-1)\n",
        "        back(size/2)\n",
        "        left(60)\n",
        "        forward(size/2)\n",
        "        right(60)\n",
        "        draw_sierpinski(size/2, depth-1)\n",
        "        left(60)\n",
        "        back(size/2)\n",
        "        right(60)"
      ]
    },
    {
      "cell_type": "markdown",
      "id": "6a95097a",
      "metadata": {
        "id": "6a95097a"
      },
      "source": [
        "Here's what the result might look like, although the version you get might be different."
      ]
    },
    {
      "cell_type": "code",
      "execution_count": null,
      "id": "43470b3d",
      "metadata": {
        "id": "43470b3d",
        "outputId": "fbed847a-38ed-41ef-de23-9c6552efef40",
        "colab": {
          "base_uri": "https://localhost:8080/",
          "height": 221
        }
      },
      "outputs": [
        {
          "output_type": "display_data",
          "data": {
            "text/plain": [
              "<IPython.core.display.HTML object>"
            ],
            "text/html": [
              "<svg width=\"300\" height=\"200\">\n",
              "    <rect width=\"100%\" height=\"100%\" fill=\"#F3F3F7\" />\n",
              "\n",
              "<line x1=\"150\" y1=\"100\" x2=\"162.5\" y2=\"100.0\"\n",
              "    stroke=\"#663399\" stroke-width=\"2\" />\n",
              "<line x1=\"162.5\" y1=\"100.0\" x2=\"156.2\" y2=\"89.2\"\n",
              "    stroke=\"#663399\" stroke-width=\"2\" />\n",
              "<line x1=\"156.2\" y1=\"89.2\" x2=\"150.0\" y2=\"100.0\"\n",
              "    stroke=\"#663399\" stroke-width=\"2\" />\n",
              "<line x1=\"150.0\" y1=\"100.0\" x2=\"162.5\" y2=\"100.0\"\n",
              "    stroke=\"#663399\" stroke-width=\"2\" />\n",
              "<line x1=\"162.5\" y1=\"100.0\" x2=\"175.0\" y2=\"100.0\"\n",
              "    stroke=\"#663399\" stroke-width=\"2\" />\n",
              "<line x1=\"175.0\" y1=\"100.0\" x2=\"168.8\" y2=\"89.2\"\n",
              "    stroke=\"#663399\" stroke-width=\"2\" />\n",
              "<line x1=\"168.8\" y1=\"89.2\" x2=\"162.5\" y2=\"100.0\"\n",
              "    stroke=\"#663399\" stroke-width=\"2\" />\n",
              "<line x1=\"162.5\" y1=\"100.0\" x2=\"150.0\" y2=\"100.0\"\n",
              "    stroke=\"#663399\" stroke-width=\"2\" />\n",
              "<line x1=\"150.0\" y1=\"100.0\" x2=\"156.2\" y2=\"89.2\"\n",
              "    stroke=\"#663399\" stroke-width=\"2\" />\n",
              "<line x1=\"156.2\" y1=\"89.2\" x2=\"168.8\" y2=\"89.2\"\n",
              "    stroke=\"#663399\" stroke-width=\"2\" />\n",
              "<line x1=\"168.8\" y1=\"89.2\" x2=\"162.5\" y2=\"78.3\"\n",
              "    stroke=\"#663399\" stroke-width=\"2\" />\n",
              "<line x1=\"162.5\" y1=\"78.3\" x2=\"156.2\" y2=\"89.2\"\n",
              "    stroke=\"#663399\" stroke-width=\"2\" />\n",
              "<line x1=\"156.2\" y1=\"89.2\" x2=\"150.0\" y2=\"100.0\"\n",
              "    stroke=\"#663399\" stroke-width=\"2\" />\n",
              "<line x1=\"150.0\" y1=\"100.0\" x2=\"175.0\" y2=\"100.0\"\n",
              "    stroke=\"#663399\" stroke-width=\"2\" />\n",
              "<line x1=\"175.0\" y1=\"100.0\" x2=\"187.5\" y2=\"100.0\"\n",
              "    stroke=\"#663399\" stroke-width=\"2\" />\n",
              "<line x1=\"187.5\" y1=\"100.0\" x2=\"181.2\" y2=\"89.2\"\n",
              "    stroke=\"#663399\" stroke-width=\"2\" />\n",
              "<line x1=\"181.2\" y1=\"89.2\" x2=\"175.0\" y2=\"100.0\"\n",
              "    stroke=\"#663399\" stroke-width=\"2\" />\n",
              "<line x1=\"175.0\" y1=\"100.0\" x2=\"187.5\" y2=\"100.0\"\n",
              "    stroke=\"#663399\" stroke-width=\"2\" />\n",
              "<line x1=\"187.5\" y1=\"100.0\" x2=\"200.0\" y2=\"100.0\"\n",
              "    stroke=\"#663399\" stroke-width=\"2\" />\n",
              "<line x1=\"200.0\" y1=\"100.0\" x2=\"193.8\" y2=\"89.2\"\n",
              "    stroke=\"#663399\" stroke-width=\"2\" />\n",
              "<line x1=\"193.8\" y1=\"89.2\" x2=\"187.5\" y2=\"100.0\"\n",
              "    stroke=\"#663399\" stroke-width=\"2\" />\n",
              "<line x1=\"187.5\" y1=\"100.0\" x2=\"175.0\" y2=\"100.0\"\n",
              "    stroke=\"#663399\" stroke-width=\"2\" />\n",
              "<line x1=\"175.0\" y1=\"100.0\" x2=\"181.2\" y2=\"89.2\"\n",
              "    stroke=\"#663399\" stroke-width=\"2\" />\n",
              "<line x1=\"181.2\" y1=\"89.2\" x2=\"193.8\" y2=\"89.2\"\n",
              "    stroke=\"#663399\" stroke-width=\"2\" />\n",
              "<line x1=\"193.8\" y1=\"89.2\" x2=\"187.5\" y2=\"78.3\"\n",
              "    stroke=\"#663399\" stroke-width=\"2\" />\n",
              "<line x1=\"187.5\" y1=\"78.3\" x2=\"181.2\" y2=\"89.2\"\n",
              "    stroke=\"#663399\" stroke-width=\"2\" />\n",
              "<line x1=\"181.2\" y1=\"89.2\" x2=\"175.0\" y2=\"100.0\"\n",
              "    stroke=\"#663399\" stroke-width=\"2\" />\n",
              "<line x1=\"175.0\" y1=\"100.0\" x2=\"150.0\" y2=\"100.0\"\n",
              "    stroke=\"#663399\" stroke-width=\"2\" />\n",
              "<line x1=\"150.0\" y1=\"100.0\" x2=\"162.5\" y2=\"78.3\"\n",
              "    stroke=\"#663399\" stroke-width=\"2\" />\n",
              "<line x1=\"162.5\" y1=\"78.3\" x2=\"175.0\" y2=\"78.3\"\n",
              "    stroke=\"#663399\" stroke-width=\"2\" />\n",
              "<line x1=\"175.0\" y1=\"78.3\" x2=\"168.8\" y2=\"67.5\"\n",
              "    stroke=\"#663399\" stroke-width=\"2\" />\n",
              "<line x1=\"168.8\" y1=\"67.5\" x2=\"162.5\" y2=\"78.3\"\n",
              "    stroke=\"#663399\" stroke-width=\"2\" />\n",
              "<line x1=\"162.5\" y1=\"78.3\" x2=\"175.0\" y2=\"78.3\"\n",
              "    stroke=\"#663399\" stroke-width=\"2\" />\n",
              "<line x1=\"175.0\" y1=\"78.3\" x2=\"187.5\" y2=\"78.3\"\n",
              "    stroke=\"#663399\" stroke-width=\"2\" />\n",
              "<line x1=\"187.5\" y1=\"78.3\" x2=\"181.2\" y2=\"67.5\"\n",
              "    stroke=\"#663399\" stroke-width=\"2\" />\n",
              "<line x1=\"181.2\" y1=\"67.5\" x2=\"175.0\" y2=\"78.3\"\n",
              "    stroke=\"#663399\" stroke-width=\"2\" />\n",
              "<line x1=\"175.0\" y1=\"78.3\" x2=\"162.5\" y2=\"78.3\"\n",
              "    stroke=\"#663399\" stroke-width=\"2\" />\n",
              "<line x1=\"162.5\" y1=\"78.3\" x2=\"168.8\" y2=\"67.5\"\n",
              "    stroke=\"#663399\" stroke-width=\"2\" />\n",
              "<line x1=\"168.8\" y1=\"67.5\" x2=\"181.2\" y2=\"67.5\"\n",
              "    stroke=\"#663399\" stroke-width=\"2\" />\n",
              "<line x1=\"181.2\" y1=\"67.5\" x2=\"175.0\" y2=\"56.7\"\n",
              "    stroke=\"#663399\" stroke-width=\"2\" />\n",
              "<line x1=\"175.0\" y1=\"56.7\" x2=\"168.8\" y2=\"67.5\"\n",
              "    stroke=\"#663399\" stroke-width=\"2\" />\n",
              "<line x1=\"168.8\" y1=\"67.5\" x2=\"162.5\" y2=\"78.3\"\n",
              "    stroke=\"#663399\" stroke-width=\"2\" />\n",
              "<line x1=\"162.5\" y1=\"78.3\" x2=\"150.0\" y2=\"100.0\"\n",
              "    stroke=\"#663399\" stroke-width=\"2\" />\n",
              "<line x1=\"150.0\" y1=\"100.0\" x2=\"200.0\" y2=\"100.0\"\n",
              "    stroke=\"#663399\" stroke-width=\"2\" />\n",
              "<line x1=\"200.0\" y1=\"100.0\" x2=\"212.5\" y2=\"100.0\"\n",
              "    stroke=\"#663399\" stroke-width=\"2\" />\n",
              "<line x1=\"212.5\" y1=\"100.0\" x2=\"206.2\" y2=\"89.2\"\n",
              "    stroke=\"#663399\" stroke-width=\"2\" />\n",
              "<line x1=\"206.2\" y1=\"89.2\" x2=\"200.0\" y2=\"100.0\"\n",
              "    stroke=\"#663399\" stroke-width=\"2\" />\n",
              "<line x1=\"200.0\" y1=\"100.0\" x2=\"212.5\" y2=\"100.0\"\n",
              "    stroke=\"#663399\" stroke-width=\"2\" />\n",
              "<line x1=\"212.5\" y1=\"100.0\" x2=\"225.0\" y2=\"100.0\"\n",
              "    stroke=\"#663399\" stroke-width=\"2\" />\n",
              "<line x1=\"225.0\" y1=\"100.0\" x2=\"218.8\" y2=\"89.2\"\n",
              "    stroke=\"#663399\" stroke-width=\"2\" />\n",
              "<line x1=\"218.8\" y1=\"89.2\" x2=\"212.5\" y2=\"100.0\"\n",
              "    stroke=\"#663399\" stroke-width=\"2\" />\n",
              "<line x1=\"212.5\" y1=\"100.0\" x2=\"200.0\" y2=\"100.0\"\n",
              "    stroke=\"#663399\" stroke-width=\"2\" />\n",
              "<line x1=\"200.0\" y1=\"100.0\" x2=\"206.2\" y2=\"89.2\"\n",
              "    stroke=\"#663399\" stroke-width=\"2\" />\n",
              "<line x1=\"206.2\" y1=\"89.2\" x2=\"218.8\" y2=\"89.2\"\n",
              "    stroke=\"#663399\" stroke-width=\"2\" />\n",
              "<line x1=\"218.8\" y1=\"89.2\" x2=\"212.5\" y2=\"78.3\"\n",
              "    stroke=\"#663399\" stroke-width=\"2\" />\n",
              "<line x1=\"212.5\" y1=\"78.3\" x2=\"206.2\" y2=\"89.2\"\n",
              "    stroke=\"#663399\" stroke-width=\"2\" />\n",
              "<line x1=\"206.2\" y1=\"89.2\" x2=\"200.0\" y2=\"100.0\"\n",
              "    stroke=\"#663399\" stroke-width=\"2\" />\n",
              "<line x1=\"200.0\" y1=\"100.0\" x2=\"225.0\" y2=\"100.0\"\n",
              "    stroke=\"#663399\" stroke-width=\"2\" />\n",
              "<line x1=\"225.0\" y1=\"100.0\" x2=\"237.5\" y2=\"100.0\"\n",
              "    stroke=\"#663399\" stroke-width=\"2\" />\n",
              "<line x1=\"237.5\" y1=\"100.0\" x2=\"231.2\" y2=\"89.2\"\n",
              "    stroke=\"#663399\" stroke-width=\"2\" />\n",
              "<line x1=\"231.2\" y1=\"89.2\" x2=\"225.0\" y2=\"100.0\"\n",
              "    stroke=\"#663399\" stroke-width=\"2\" />\n",
              "<line x1=\"225.0\" y1=\"100.0\" x2=\"237.5\" y2=\"100.0\"\n",
              "    stroke=\"#663399\" stroke-width=\"2\" />\n",
              "<line x1=\"237.5\" y1=\"100.0\" x2=\"250.0\" y2=\"100.0\"\n",
              "    stroke=\"#663399\" stroke-width=\"2\" />\n",
              "<line x1=\"250.0\" y1=\"100.0\" x2=\"243.8\" y2=\"89.2\"\n",
              "    stroke=\"#663399\" stroke-width=\"2\" />\n",
              "<line x1=\"243.8\" y1=\"89.2\" x2=\"237.5\" y2=\"100.0\"\n",
              "    stroke=\"#663399\" stroke-width=\"2\" />\n",
              "<line x1=\"237.5\" y1=\"100.0\" x2=\"225.0\" y2=\"100.0\"\n",
              "    stroke=\"#663399\" stroke-width=\"2\" />\n",
              "<line x1=\"225.0\" y1=\"100.0\" x2=\"231.2\" y2=\"89.2\"\n",
              "    stroke=\"#663399\" stroke-width=\"2\" />\n",
              "<line x1=\"231.2\" y1=\"89.2\" x2=\"243.8\" y2=\"89.2\"\n",
              "    stroke=\"#663399\" stroke-width=\"2\" />\n",
              "<line x1=\"243.8\" y1=\"89.2\" x2=\"237.5\" y2=\"78.3\"\n",
              "    stroke=\"#663399\" stroke-width=\"2\" />\n",
              "<line x1=\"237.5\" y1=\"78.3\" x2=\"231.2\" y2=\"89.2\"\n",
              "    stroke=\"#663399\" stroke-width=\"2\" />\n",
              "<line x1=\"231.2\" y1=\"89.2\" x2=\"225.0\" y2=\"100.0\"\n",
              "    stroke=\"#663399\" stroke-width=\"2\" />\n",
              "<line x1=\"225.0\" y1=\"100.0\" x2=\"200.0\" y2=\"100.0\"\n",
              "    stroke=\"#663399\" stroke-width=\"2\" />\n",
              "<line x1=\"200.0\" y1=\"100.0\" x2=\"212.5\" y2=\"78.3\"\n",
              "    stroke=\"#663399\" stroke-width=\"2\" />\n",
              "<line x1=\"212.5\" y1=\"78.3\" x2=\"225.0\" y2=\"78.3\"\n",
              "    stroke=\"#663399\" stroke-width=\"2\" />\n",
              "<line x1=\"225.0\" y1=\"78.3\" x2=\"218.8\" y2=\"67.5\"\n",
              "    stroke=\"#663399\" stroke-width=\"2\" />\n",
              "<line x1=\"218.8\" y1=\"67.5\" x2=\"212.5\" y2=\"78.3\"\n",
              "    stroke=\"#663399\" stroke-width=\"2\" />\n",
              "<line x1=\"212.5\" y1=\"78.3\" x2=\"225.0\" y2=\"78.3\"\n",
              "    stroke=\"#663399\" stroke-width=\"2\" />\n",
              "<line x1=\"225.0\" y1=\"78.3\" x2=\"237.5\" y2=\"78.3\"\n",
              "    stroke=\"#663399\" stroke-width=\"2\" />\n",
              "<line x1=\"237.5\" y1=\"78.3\" x2=\"231.2\" y2=\"67.5\"\n",
              "    stroke=\"#663399\" stroke-width=\"2\" />\n",
              "<line x1=\"231.2\" y1=\"67.5\" x2=\"225.0\" y2=\"78.3\"\n",
              "    stroke=\"#663399\" stroke-width=\"2\" />\n",
              "<line x1=\"225.0\" y1=\"78.3\" x2=\"212.5\" y2=\"78.3\"\n",
              "    stroke=\"#663399\" stroke-width=\"2\" />\n",
              "<line x1=\"212.5\" y1=\"78.3\" x2=\"218.8\" y2=\"67.5\"\n",
              "    stroke=\"#663399\" stroke-width=\"2\" />\n",
              "<line x1=\"218.8\" y1=\"67.5\" x2=\"231.2\" y2=\"67.5\"\n",
              "    stroke=\"#663399\" stroke-width=\"2\" />\n",
              "<line x1=\"231.2\" y1=\"67.5\" x2=\"225.0\" y2=\"56.7\"\n",
              "    stroke=\"#663399\" stroke-width=\"2\" />\n",
              "<line x1=\"225.0\" y1=\"56.7\" x2=\"218.8\" y2=\"67.5\"\n",
              "    stroke=\"#663399\" stroke-width=\"2\" />\n",
              "<line x1=\"218.8\" y1=\"67.5\" x2=\"212.5\" y2=\"78.3\"\n",
              "    stroke=\"#663399\" stroke-width=\"2\" />\n",
              "<line x1=\"212.5\" y1=\"78.3\" x2=\"200.0\" y2=\"100.0\"\n",
              "    stroke=\"#663399\" stroke-width=\"2\" />\n",
              "<line x1=\"200.0\" y1=\"100.0\" x2=\"150.0\" y2=\"100.0\"\n",
              "    stroke=\"#663399\" stroke-width=\"2\" />\n",
              "<line x1=\"150.0\" y1=\"100.0\" x2=\"175.0\" y2=\"56.7\"\n",
              "    stroke=\"#663399\" stroke-width=\"2\" />\n",
              "<line x1=\"175.0\" y1=\"56.7\" x2=\"187.5\" y2=\"56.7\"\n",
              "    stroke=\"#663399\" stroke-width=\"2\" />\n",
              "<line x1=\"187.5\" y1=\"56.7\" x2=\"181.2\" y2=\"45.9\"\n",
              "    stroke=\"#663399\" stroke-width=\"2\" />\n",
              "<line x1=\"181.2\" y1=\"45.9\" x2=\"175.0\" y2=\"56.7\"\n",
              "    stroke=\"#663399\" stroke-width=\"2\" />\n",
              "<line x1=\"175.0\" y1=\"56.7\" x2=\"187.5\" y2=\"56.7\"\n",
              "    stroke=\"#663399\" stroke-width=\"2\" />\n",
              "<line x1=\"187.5\" y1=\"56.7\" x2=\"200.0\" y2=\"56.7\"\n",
              "    stroke=\"#663399\" stroke-width=\"2\" />\n",
              "<line x1=\"200.0\" y1=\"56.7\" x2=\"193.8\" y2=\"45.9\"\n",
              "    stroke=\"#663399\" stroke-width=\"2\" />\n",
              "<line x1=\"193.8\" y1=\"45.9\" x2=\"187.5\" y2=\"56.7\"\n",
              "    stroke=\"#663399\" stroke-width=\"2\" />\n",
              "<line x1=\"187.5\" y1=\"56.7\" x2=\"175.0\" y2=\"56.7\"\n",
              "    stroke=\"#663399\" stroke-width=\"2\" />\n",
              "<line x1=\"175.0\" y1=\"56.7\" x2=\"181.2\" y2=\"45.9\"\n",
              "    stroke=\"#663399\" stroke-width=\"2\" />\n",
              "<line x1=\"181.2\" y1=\"45.9\" x2=\"193.8\" y2=\"45.9\"\n",
              "    stroke=\"#663399\" stroke-width=\"2\" />\n",
              "<line x1=\"193.8\" y1=\"45.9\" x2=\"187.5\" y2=\"35.0\"\n",
              "    stroke=\"#663399\" stroke-width=\"2\" />\n",
              "<line x1=\"187.5\" y1=\"35.0\" x2=\"181.2\" y2=\"45.9\"\n",
              "    stroke=\"#663399\" stroke-width=\"2\" />\n",
              "<line x1=\"181.2\" y1=\"45.9\" x2=\"175.0\" y2=\"56.7\"\n",
              "    stroke=\"#663399\" stroke-width=\"2\" />\n",
              "<line x1=\"175.0\" y1=\"56.7\" x2=\"200.0\" y2=\"56.7\"\n",
              "    stroke=\"#663399\" stroke-width=\"2\" />\n",
              "<line x1=\"200.0\" y1=\"56.7\" x2=\"212.5\" y2=\"56.7\"\n",
              "    stroke=\"#663399\" stroke-width=\"2\" />\n",
              "<line x1=\"212.5\" y1=\"56.7\" x2=\"206.2\" y2=\"45.9\"\n",
              "    stroke=\"#663399\" stroke-width=\"2\" />\n",
              "<line x1=\"206.2\" y1=\"45.9\" x2=\"200.0\" y2=\"56.7\"\n",
              "    stroke=\"#663399\" stroke-width=\"2\" />\n",
              "<line x1=\"200.0\" y1=\"56.7\" x2=\"212.5\" y2=\"56.7\"\n",
              "    stroke=\"#663399\" stroke-width=\"2\" />\n",
              "<line x1=\"212.5\" y1=\"56.7\" x2=\"225.0\" y2=\"56.7\"\n",
              "    stroke=\"#663399\" stroke-width=\"2\" />\n",
              "<line x1=\"225.0\" y1=\"56.7\" x2=\"218.8\" y2=\"45.9\"\n",
              "    stroke=\"#663399\" stroke-width=\"2\" />\n",
              "<line x1=\"218.8\" y1=\"45.9\" x2=\"212.5\" y2=\"56.7\"\n",
              "    stroke=\"#663399\" stroke-width=\"2\" />\n",
              "<line x1=\"212.5\" y1=\"56.7\" x2=\"200.0\" y2=\"56.7\"\n",
              "    stroke=\"#663399\" stroke-width=\"2\" />\n",
              "<line x1=\"200.0\" y1=\"56.7\" x2=\"206.2\" y2=\"45.9\"\n",
              "    stroke=\"#663399\" stroke-width=\"2\" />\n",
              "<line x1=\"206.2\" y1=\"45.9\" x2=\"218.8\" y2=\"45.9\"\n",
              "    stroke=\"#663399\" stroke-width=\"2\" />\n",
              "<line x1=\"218.8\" y1=\"45.9\" x2=\"212.5\" y2=\"35.0\"\n",
              "    stroke=\"#663399\" stroke-width=\"2\" />\n",
              "<line x1=\"212.5\" y1=\"35.0\" x2=\"206.2\" y2=\"45.9\"\n",
              "    stroke=\"#663399\" stroke-width=\"2\" />\n",
              "<line x1=\"206.2\" y1=\"45.9\" x2=\"200.0\" y2=\"56.7\"\n",
              "    stroke=\"#663399\" stroke-width=\"2\" />\n",
              "<line x1=\"200.0\" y1=\"56.7\" x2=\"175.0\" y2=\"56.7\"\n",
              "    stroke=\"#663399\" stroke-width=\"2\" />\n",
              "<line x1=\"175.0\" y1=\"56.7\" x2=\"187.5\" y2=\"35.0\"\n",
              "    stroke=\"#663399\" stroke-width=\"2\" />\n",
              "<line x1=\"187.5\" y1=\"35.0\" x2=\"200.0\" y2=\"35.0\"\n",
              "    stroke=\"#663399\" stroke-width=\"2\" />\n",
              "<line x1=\"200.0\" y1=\"35.0\" x2=\"193.8\" y2=\"24.2\"\n",
              "    stroke=\"#663399\" stroke-width=\"2\" />\n",
              "<line x1=\"193.8\" y1=\"24.2\" x2=\"187.5\" y2=\"35.0\"\n",
              "    stroke=\"#663399\" stroke-width=\"2\" />\n",
              "<line x1=\"187.5\" y1=\"35.0\" x2=\"200.0\" y2=\"35.0\"\n",
              "    stroke=\"#663399\" stroke-width=\"2\" />\n",
              "<line x1=\"200.0\" y1=\"35.0\" x2=\"212.5\" y2=\"35.0\"\n",
              "    stroke=\"#663399\" stroke-width=\"2\" />\n",
              "<line x1=\"212.5\" y1=\"35.0\" x2=\"206.2\" y2=\"24.2\"\n",
              "    stroke=\"#663399\" stroke-width=\"2\" />\n",
              "<line x1=\"206.2\" y1=\"24.2\" x2=\"200.0\" y2=\"35.0\"\n",
              "    stroke=\"#663399\" stroke-width=\"2\" />\n",
              "<line x1=\"200.0\" y1=\"35.0\" x2=\"187.5\" y2=\"35.0\"\n",
              "    stroke=\"#663399\" stroke-width=\"2\" />\n",
              "<line x1=\"187.5\" y1=\"35.0\" x2=\"193.8\" y2=\"24.2\"\n",
              "    stroke=\"#663399\" stroke-width=\"2\" />\n",
              "<line x1=\"193.8\" y1=\"24.2\" x2=\"206.2\" y2=\"24.2\"\n",
              "    stroke=\"#663399\" stroke-width=\"2\" />\n",
              "<line x1=\"206.2\" y1=\"24.2\" x2=\"200.0\" y2=\"13.4\"\n",
              "    stroke=\"#663399\" stroke-width=\"2\" />\n",
              "<line x1=\"200.0\" y1=\"13.4\" x2=\"193.8\" y2=\"24.2\"\n",
              "    stroke=\"#663399\" stroke-width=\"2\" />\n",
              "<line x1=\"193.8\" y1=\"24.2\" x2=\"187.5\" y2=\"35.0\"\n",
              "    stroke=\"#663399\" stroke-width=\"2\" />\n",
              "<line x1=\"187.5\" y1=\"35.0\" x2=\"175.0\" y2=\"56.7\"\n",
              "    stroke=\"#663399\" stroke-width=\"2\" />\n",
              "<line x1=\"175.0\" y1=\"56.7\" x2=\"150.0\" y2=\"100.0\"\n",
              "    stroke=\"#663399\" stroke-width=\"2\" />\n",
              "\n",
              "<g transform=\"rotate(-90.0,150.0,100.0) translate(150.0, 100.0)\">\n",
              "    <circle stroke=\"#63A375\" stroke-width=\"2\" fill=\"transparent\" r=\"5.5\" cx=\"0\" cy=\"0\"/>\n",
              "    <polygon points=\"0,12 2,9 -2,9\" style=\"fill:#63A375;stroke:#63A375;stroke-width:2\"/>\n",
              "</g>\n",
              "\n",
              "</svg>"
            ]
          },
          "metadata": {}
        }
      ],
      "source": [
        "make_turtle(delay=0, height=200)\n",
        "\n",
        "draw_sierpinski(100, 3)"
      ]
    },
    {
      "cell_type": "markdown",
      "id": "a7f4edf8",
      "metadata": {
        "tags": [],
        "id": "a7f4edf8"
      },
      "source": [
        "[Think Python: 3rd Edition](https://allendowney.github.io/ThinkPython/index.html)\n",
        "\n",
        "Copyright 2024 [Allen B. Downey](https://allendowney.com)\n",
        "\n",
        "Code license: [MIT License](https://mit-license.org/)\n",
        "\n",
        "Text license: [Creative Commons Attribution-NonCommercial-ShareAlike 4.0 International](https://creativecommons.org/licenses/by-nc-sa/4.0/)"
      ]
    }
  ],
  "metadata": {
    "celltoolbar": "Tags",
    "kernelspec": {
      "display_name": "Python 3 (ipykernel)",
      "language": "python",
      "name": "python3"
    },
    "language_info": {
      "codemirror_mode": {
        "name": "ipython",
        "version": 3
      },
      "file_extension": ".py",
      "mimetype": "text/x-python",
      "name": "python",
      "nbconvert_exporter": "python",
      "pygments_lexer": "ipython3",
      "version": "3.10.11"
    },
    "colab": {
      "provenance": [],
      "include_colab_link": true
    }
  },
  "nbformat": 4,
  "nbformat_minor": 5
}